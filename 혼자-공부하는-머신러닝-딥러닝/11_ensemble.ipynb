{
  "nbformat": 4,
  "nbformat_minor": 0,
  "metadata": {
    "colab": {
      "name": "11-ensemble.ipynb",
      "provenance": [],
      "collapsed_sections": [],
      "authorship_tag": "ABX9TyMQuinGKNc6V7ipsbARtyz/",
      "include_colab_link": true
    },
    "kernelspec": {
      "name": "python3",
      "display_name": "Python 3"
    },
    "language_info": {
      "name": "python"
    }
  },
  "cells": [
    {
      "cell_type": "markdown",
      "metadata": {
        "id": "view-in-github",
        "colab_type": "text"
      },
      "source": [
        "<a href=\"https://colab.research.google.com/github/Katinon/Self-Study/blob/main/%ED%98%BC%EC%9E%90-%EA%B3%B5%EB%B6%80%ED%95%98%EB%8A%94-%EB%A8%B8%EC%8B%A0%EB%9F%AC%EB%8B%9D-%EB%94%A5%EB%9F%AC%EB%8B%9D/11_ensemble.ipynb\" target=\"_parent\"><img src=\"https://colab.research.google.com/assets/colab-badge.svg\" alt=\"Open In Colab\"/></a>"
      ]
    },
    {
      "cell_type": "code",
      "execution_count": null,
      "metadata": {
        "id": "mUmhV6Rwu6K-"
      },
      "outputs": [],
      "source": [
        "# 앙상블 학습\n",
        "# 결정트리 기반의 정형 데이터를 다루는 뛰어난 알고리즘\n",
        "\n",
        "# 랜덤 포레스트\n",
        "# 앙상블 학습으로, 데이터 세트에서 중복을 허용하여 데이터를 샘플링하는 부트스트랩 방식 사용\n",
        "# 랜덤하게 선택한 샘플과 특성을 사용하기 때문에 과대적합을 막고 테스트에 안정적인 성능"
      ]
    },
    {
      "cell_type": "code",
      "source": [
        "import numpy as np\n",
        "import pandas as pd\n",
        "from sklearn.model_selection import train_test_split\n",
        "\n",
        "wine = pd.read_csv(\"https://bit.ly/wine_csv_data\")\n",
        "\n",
        "data = wine[['alcohol', 'sugar', 'pH']].to_numpy()\n",
        "target = wine['class'].to_numpy()\n",
        "# 훈련세트, 테스트세트 나누기\n",
        "train_input, test_input, train_target, test_target = train_test_split(data, target, random_state=42, test_size=0.2)"
      ],
      "metadata": {
        "id": "Z12-tY0Hv5Lh"
      },
      "execution_count": 7,
      "outputs": []
    },
    {
      "cell_type": "code",
      "source": [
        "from sklearn.model_selection import cross_validate #교차 검증\n",
        "from sklearn.ensemble import RandomForestClassifier #랜덤포레스트 분류모델\n",
        "# 랜덤포레스트 객체 생성\n",
        "rf = RandomForestClassifier(n_jobs=-1, random_state=42)\n",
        "\n",
        "# return_train_score로 훈련세트 점수도 같이 반환, 기본값 false, 5폴드 교차검증\n",
        "scores = cross_validate(rf, train_input, train_target, return_train_score=True, n_jobs=-1)\n",
        "\n",
        "print(np.mean(scores['train_score']), np.mean(scores['test_score']))"
      ],
      "metadata": {
        "colab": {
          "base_uri": "https://localhost:8080/"
        },
        "id": "dG-n_ig6w5bW",
        "outputId": "9a4a1154-2cbb-4777-8eee-b95e5ee3eb3f"
      },
      "execution_count": 11,
      "outputs": [
        {
          "output_type": "stream",
          "name": "stdout",
          "text": [
            "0.9973541965122431 0.8905151032797809\n"
          ]
        }
      ]
    },
    {
      "cell_type": "code",
      "source": [
        "rf.fit(train_input, train_target)\n",
        "print(rf.feature_importances_) # 도수, 당도, pH\n",
        "\n",
        "# 결정 트리에서보다 당도의 중요도가 떨어지고, 다른 특성의 중요도 상승\n",
        "# 특성의 일부를 랜덤하게 선택하여 훈련하기 때문\n",
        "# 과대 적합을 줄이고 일반화 성능을 높임"
      ],
      "metadata": {
        "colab": {
          "base_uri": "https://localhost:8080/"
        },
        "id": "UuxbpsMayGML",
        "outputId": "0aeafc5d-e0fa-448e-fa0a-a9a1fc32e4ad"
      },
      "execution_count": 12,
      "outputs": [
        {
          "output_type": "stream",
          "name": "stdout",
          "text": [
            "[0.23167441 0.50039841 0.26792718]\n"
          ]
        }
      ]
    },
    {
      "cell_type": "code",
      "source": [
        "# 부트스트랩 샘플에 포함되지 않고 남는 샘플을 OOB라고 부름 (Out Of Bag)\n",
        "# 이것을 사용하여 부트스트랩 샘플로 훈련한 결정트리 평가 가능, 검증 세트의 역할\n",
        "rf = RandomForestClassifier(n_jobs=-1, oob_score=True, random_state=42)\n",
        "rf.fit(train_input, train_target)\n",
        "rf.oob_score_ # 교차 검증으로 얻은 점수와 비슷함"
      ],
      "metadata": {
        "colab": {
          "base_uri": "https://localhost:8080/"
        },
        "id": "Ns5wvV4uycAP",
        "outputId": "a4f7dcae-d045-42a0-d720-d5e381e8fa30"
      },
      "execution_count": 15,
      "outputs": [
        {
          "output_type": "execute_result",
          "data": {
            "text/plain": [
              "0.8934000384837406"
            ]
          },
          "metadata": {},
          "execution_count": 15
        }
      ]
    },
    {
      "cell_type": "code",
      "source": [
        "# 엑스트라 트리\n",
        "# 부트스트랩 샘플이 아닌 전체 샘플 사용\n",
        "# 노드를 분할할 때 가장 좋은 분할이 아닌 무작위로 분할 (splitter = random)\n",
        "# 성능은 낮아지지만 많은 트리를 앙상블하기 때문에\n",
        "# 과대적합을 막고 검증세트의 점수를 높이는 효과가 있음\n",
        "# 더 많은 결정트리를 훈련해야 하지만 랜덤하게 노드를 분할하여 빠른 계산속도\n",
        "\n",
        "from sklearn.ensemble import ExtraTreesClassifier\n",
        "et = ExtraTreesClassifier(n_jobs=-1, random_state=42)\n",
        "scores = cross_validate(et, train_input, train_target, return_train_score=True, n_jobs=-1)\n",
        "print(np.mean(scores['train_score']), np.mean(scores['test_score']))"
      ],
      "metadata": {
        "colab": {
          "base_uri": "https://localhost:8080/"
        },
        "id": "dfZPBYcrzB8v",
        "outputId": "47d64e0a-0ed5-4b68-b6f1-b7ea0768a9bb"
      },
      "execution_count": 16,
      "outputs": [
        {
          "output_type": "stream",
          "name": "stdout",
          "text": [
            "0.9974503966084433 0.8887848893166506\n"
          ]
        }
      ]
    },
    {
      "cell_type": "code",
      "source": [
        "et.fit(train_input, train_target)\n",
        "print(et.feature_importances_)\n",
        "# 도수, 당도, pH\n",
        "# 마찬가지로 당도에 대한 의존성이 결정 트리보다 작음\n",
        "# 엑스트라 트리 회귀는 ExtraTreesRegressor클래스"
      ],
      "metadata": {
        "colab": {
          "base_uri": "https://localhost:8080/"
        },
        "id": "s88CUcv10CB9",
        "outputId": "cffdfb19-0641-423e-906f-a04854d7ffed"
      },
      "execution_count": 18,
      "outputs": [
        {
          "output_type": "stream",
          "name": "stdout",
          "text": [
            "[0.20183568 0.52242907 0.27573525]\n"
          ]
        }
      ]
    },
    {
      "cell_type": "code",
      "source": [
        "# 그레이디언트 부스팅\n",
        "# 깊이가 얇은 결정 트리를 이용하여 이전 트리의 오차 보완\n",
        "# 기본적으로 깊이 3의 결정트리 100개 사용\n",
        "# 과대적합에 강하고, 일반화 성능 높음\n",
        "# 경사하강법 사용, 분류에서는 로지스틱 손실함수, 회귀에서는 평균 제곱 오차함수 사용\n",
        "\n",
        "from sklearn.ensemble import GradientBoostingClassifier\n",
        "gb = GradientBoostingClassifier(random_state=42)\n",
        "scores = cross_validate(gb, train_input, train_target, return_train_score=True, n_jobs=-1) # 훈련세트, 교차검증\n",
        "print(np.mean(scores['train_score']), np.mean(scores['test_score']))"
      ],
      "metadata": {
        "colab": {
          "base_uri": "https://localhost:8080/"
        },
        "id": "IDKa54rC0WfC",
        "outputId": "0e327926-a2e6-4901-d222-0a700bb288d9"
      },
      "execution_count": 21,
      "outputs": [
        {
          "output_type": "stream",
          "name": "stdout",
          "text": [
            "0.8881086892152563 0.8720430147331015\n"
          ]
        }
      ]
    },
    {
      "cell_type": "code",
      "source": [
        "# 학습률을 증가시키고 트리의 개수를 늘리면 성능 향상\n",
        "# 결정트리개수의 기본값은 100, 학습률은 0.1\n",
        "gb = GradientBoostingClassifier(n_estimators=500, learning_rate=0.2 ,random_state=42)\n",
        "scores = cross_validate(gb, train_input, train_target, return_train_score=True, n_jobs=-1)\n",
        "print(np.mean(scores['train_score']), np.mean(scores['test_score']))"
      ],
      "metadata": {
        "colab": {
          "base_uri": "https://localhost:8080/"
        },
        "id": "711_FBkW1UU4",
        "outputId": "b488ebc2-2f4b-4559-a014-078d315258e6"
      },
      "execution_count": 25,
      "outputs": [
        {
          "output_type": "stream",
          "name": "stdout",
          "text": [
            "0.9464595437171814 0.8780082549788999\n"
          ]
        }
      ]
    },
    {
      "cell_type": "code",
      "source": [
        "# 그래이디언트 부스팅이 랜덤포레스트보다 일부 특성에 더 집중\n",
        "gb.fit(train_input, train_target)\n",
        "print(gb.feature_importances_)\n",
        "\n",
        "# subsample 매개변수는 트리 훈련에 사용할 훈련 세트의 비율을 정하는데\n",
        "# 기본값은 1.0으로, 전체 훈련세트를 사용하지만\n",
        "# 1보다 작으면 훈련세트의 일부를 사용하고, 이는 확률적 경사하강법이나 미니배치 하강법과 비슷하다\n",
        "\n",
        "# 그래이디언트 부스팅이 랜덤포레스트보다 성능은 조금 더 좋으나 훈련 속도가 느림\n",
        "# 회귀 버전은 GradientBoostingRegressor 클래스"
      ],
      "metadata": {
        "colab": {
          "base_uri": "https://localhost:8080/"
        },
        "id": "-uHkGYyq2EYc",
        "outputId": "d244d34b-dd84-4b45-d4c9-41a5a9de2fef"
      },
      "execution_count": 26,
      "outputs": [
        {
          "output_type": "stream",
          "name": "stdout",
          "text": [
            "[0.15872278 0.68010884 0.16116839]\n"
          ]
        }
      ]
    },
    {
      "cell_type": "code",
      "source": [
        "# 히스토그램 기반 그레이디언트 부스팅\n",
        "# 그레이디언트 부스팅의 성능을 더욱 개선한 버전\n",
        "# 입력 특성을 256개의 구간으로 나누어 노드 분할 시 최적의분할을 빠르게 찾을 수 있음\n",
        "# 누락된 값은 256개의 구간 중 하나를 사용, 누락된 특성이 있어도 전처리할 필요 없음\n",
        "\n",
        "# 성능을 높이려면 max_iter 매개변수 이용\n",
        "\n",
        "from sklearn.experimental import enable_hist_gradient_boosting\n",
        "from sklearn.ensemble import HistGradientBoostingClassifier\n",
        "hgb = HistGradientBoostingClassifier(random_state=42)\n",
        "scores = cross_validate(hgb, train_input, train_target, return_train_score=True)\n",
        "print(np.mean(scores['train_score']), np.mean(scores['test_score']))\n",
        "# 그레이디언트 부스팅보다 조금 더 높은 성능 제공"
      ],
      "metadata": {
        "colab": {
          "base_uri": "https://localhost:8080/"
        },
        "id": "I9EkTBAa2M-o",
        "outputId": "3fa3e987-ea40-493e-8b71-5afe9bd7f4d8"
      },
      "execution_count": 29,
      "outputs": [
        {
          "output_type": "stream",
          "name": "stdout",
          "text": [
            "0.9321723946453317 0.8801241948619236\n"
          ]
        }
      ]
    },
    {
      "cell_type": "code",
      "source": [
        "# 특성 중요도 계산은 permutation_importance()\n",
        "# 특성을 하나씩 랜덤하게 섞어서 모델의 성능이 변화하는지 관찰하여 특성 중요도 계산\n",
        "# n_repeats는 랜덤하게 섞을 횟수 지정, 기본값 5\n",
        "\n",
        "from sklearn.inspection import permutation_importance\n",
        "\n",
        "hgb.fit(train_input, train_target)\n",
        "#특성 중요도, 평균, 표준편차 반환\n",
        "\n",
        "result1= permutation_importance(hgb, train_input, train_target, n_repeats=10, random_state=42, n_jobs=-1)\n",
        "print(result1.importances_mean)\n",
        "\n",
        "result2= permutation_importance(hgb, test_input, test_target, n_repeats=10, random_state=42, n_jobs=-1)\n",
        "print(result2.importances_mean)\n",
        "# 도수, 당도, pH\n",
        "# 모델을 실전에 투입할 때 어떤 특성에 관심둘지 예상가능"
      ],
      "metadata": {
        "colab": {
          "base_uri": "https://localhost:8080/"
        },
        "id": "efpokxfG4id7",
        "outputId": "7231e54d-af1f-4a48-8b92-5c3f8f3dc410"
      },
      "execution_count": 33,
      "outputs": [
        {
          "output_type": "stream",
          "name": "stdout",
          "text": [
            "[0.08876275 0.23438522 0.08027708]\n",
            "[0.05969231 0.20238462 0.049     ]\n"
          ]
        }
      ]
    },
    {
      "cell_type": "code",
      "source": [
        "hgb.score(test_input, test_target)\n",
        "# 87% 정도의 정확도"
      ],
      "metadata": {
        "colab": {
          "base_uri": "https://localhost:8080/"
        },
        "id": "TQ-Gvcdv6P8M",
        "outputId": "ab78bf7d-9e53-4aaa-a3b8-7849091a3d44"
      },
      "execution_count": 34,
      "outputs": [
        {
          "output_type": "execute_result",
          "data": {
            "text/plain": [
              "0.8723076923076923"
            ]
          },
          "metadata": {},
          "execution_count": 34
        }
      ]
    },
    {
      "cell_type": "code",
      "source": [
        "# 히스토그램 기반 그래이디언트 부스팅 알고리즘\n",
        "# 을 구현한 다른 라이브러리 중\n",
        "# XGBoost\n",
        "# 사이킷런의 cross_validate와 같이 사용 가능\n",
        "\n",
        "from xgboost import XGBClassifier\n",
        "xgb = XGBClassifier(tree_method='hist', random_state=42)\n",
        "scores = cross_validate(xgb, train_input, train_target, return_train_score=True)\n",
        "print(np.mean(scores['train_score']), np.mean(scores['test_score']))"
      ],
      "metadata": {
        "colab": {
          "base_uri": "https://localhost:8080/"
        },
        "id": "fZFxxUXh6831",
        "outputId": "78110a8e-06c3-4f74-de68-bde53993644b"
      },
      "execution_count": 37,
      "outputs": [
        {
          "output_type": "stream",
          "name": "stdout",
          "text": [
            "0.8824322471423747 0.8726214185237284\n"
          ]
        }
      ]
    },
    {
      "cell_type": "code",
      "source": [
        "# LightGBM 또한 히스토그램 기반 그래이디언트 부스팅\n",
        "from lightgbm import LGBMClassifier\n",
        "lgb = LGBMClassifier(random_state=42)\n",
        "scores = cross_validate(lgb, train_input, train_target, return_train_score=True, n_jobs=-1)\n",
        "print(np.mean(scores['train_score']), np.mean(scores['test_score']))"
      ],
      "metadata": {
        "colab": {
          "base_uri": "https://localhost:8080/"
        },
        "id": "aIdY2Xee8Sqr",
        "outputId": "08d500aa-50d3-47c0-8c91-33957cf5f394"
      },
      "execution_count": 40,
      "outputs": [
        {
          "output_type": "stream",
          "name": "stdout",
          "text": [
            "0.9338079582727165 0.8789710890649293\n"
          ]
        }
      ]
    }
  ]
}