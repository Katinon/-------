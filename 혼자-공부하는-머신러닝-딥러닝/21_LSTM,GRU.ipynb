{
  "cells": [
    {
      "cell_type": "markdown",
      "metadata": {
        "id": "view-in-github",
        "colab_type": "text"
      },
      "source": [
        "<a href=\"https://colab.research.google.com/github/Katinon/Self-Study/blob/main/%ED%98%BC%EC%9E%90-%EA%B3%B5%EB%B6%80%ED%95%98%EB%8A%94-%EB%A8%B8%EC%8B%A0%EB%9F%AC%EB%8B%9D-%EB%94%A5%EB%9F%AC%EB%8B%9D/21_LSTM%2CGRU.ipynb\" target=\"_parent\"><img src=\"https://colab.research.google.com/assets/colab-badge.svg\" alt=\"Open In Colab\"/></a>"
      ]
    },
    {
      "cell_type": "code",
      "execution_count": null,
      "metadata": {
        "id": "P8cVVUZpEtQN"
      },
      "outputs": [],
      "source": [
        "#LSTM 신경망 훈련하기\n",
        "from tensorflow.keras.datasets import imdb\n",
        "from sklearn.model_selection import train_test_split\n",
        "(train_input, train_target), (test_input, test_target) = imdb.load_data(num_words=500)\n",
        "\n",
        "train_input, val_input, train_target, val_target = train_test_split(train_input, train_target, test_size=0.2, random_state=42)"
      ]
    },
    {
      "cell_type": "code",
      "execution_count": null,
      "metadata": {
        "id": "5_yoqLC9FR0C"
      },
      "outputs": [],
      "source": [
        "from tensorflow.keras.preprocessing.sequence import pad_sequences\n",
        "\n",
        "train_seq = pad_sequences(train_input, maxlen = 100)\n",
        "val_seq = pad_sequences(val_input, maxlen=100)"
      ]
    },
    {
      "cell_type": "code",
      "execution_count": null,
      "metadata": {
        "id": "pUBuxNXOFdgC"
      },
      "outputs": [],
      "source": [
        "from tensorflow import keras\n",
        "model = keras.Sequential()\n",
        "model.add(keras.layers.Embedding(500, 16, input_length=100))\n",
        "model.add(keras.layers.LSTM(8))\n",
        "model.add(keras.layers.Dense(1,activation='sigmoid'))"
      ]
    },
    {
      "cell_type": "code",
      "execution_count": null,
      "metadata": {
        "colab": {
          "base_uri": "https://localhost:8080/"
        },
        "id": "RVAC2cFDFsls",
        "outputId": "c3308b35-2c20-4f8b-b04d-4b174a72f9c1"
      },
      "outputs": [
        {
          "name": "stdout",
          "output_type": "stream",
          "text": [
            "Model: \"sequential\"\n",
            "_________________________________________________________________\n",
            " Layer (type)                Output Shape              Param #   \n",
            "=================================================================\n",
            " embedding (Embedding)       (None, 100, 16)           8000      \n",
            "                                                                 \n",
            " lstm (LSTM)                 (None, 8)                 800       \n",
            "                                                                 \n",
            " dense (Dense)               (None, 1)                 9         \n",
            "                                                                 \n",
            "=================================================================\n",
            "Total params: 8,809\n",
            "Trainable params: 8,809\n",
            "Non-trainable params: 0\n",
            "_________________________________________________________________\n"
          ]
        }
      ],
      "source": [
        "model.summary()"
      ]
    },
    {
      "cell_type": "code",
      "execution_count": null,
      "metadata": {
        "colab": {
          "base_uri": "https://localhost:8080/"
        },
        "id": "dJOKJT1eFv8Z",
        "outputId": "cdddc508-56ed-4c33-a8b5-004cb0ab1b52"
      },
      "outputs": [
        {
          "name": "stdout",
          "output_type": "stream",
          "text": [
            "Epoch 1/100\n",
            "313/313 [==============================] - 15s 39ms/step - loss: 0.6925 - accuracy: 0.5462 - val_loss: 0.6916 - val_accuracy: 0.5858\n",
            "Epoch 2/100\n",
            "313/313 [==============================] - 12s 38ms/step - loss: 0.6901 - accuracy: 0.6069 - val_loss: 0.6883 - val_accuracy: 0.6290\n",
            "Epoch 3/100\n",
            "313/313 [==============================] - 12s 38ms/step - loss: 0.6844 - accuracy: 0.6449 - val_loss: 0.6797 - val_accuracy: 0.6532\n",
            "Epoch 4/100\n",
            "313/313 [==============================] - 12s 38ms/step - loss: 0.6676 - accuracy: 0.6769 - val_loss: 0.6511 - val_accuracy: 0.6838\n",
            "Epoch 5/100\n",
            "313/313 [==============================] - 12s 38ms/step - loss: 0.6053 - accuracy: 0.7211 - val_loss: 0.5690 - val_accuracy: 0.7328\n",
            "Epoch 6/100\n",
            "313/313 [==============================] - 12s 38ms/step - loss: 0.5508 - accuracy: 0.7412 - val_loss: 0.5403 - val_accuracy: 0.7478\n",
            "Epoch 7/100\n",
            "313/313 [==============================] - 12s 39ms/step - loss: 0.5254 - accuracy: 0.7562 - val_loss: 0.5176 - val_accuracy: 0.7656\n",
            "Epoch 8/100\n",
            "313/313 [==============================] - 13s 41ms/step - loss: 0.5042 - accuracy: 0.7702 - val_loss: 0.4993 - val_accuracy: 0.7798\n",
            "Epoch 9/100\n",
            "313/313 [==============================] - 12s 38ms/step - loss: 0.4869 - accuracy: 0.7803 - val_loss: 0.4870 - val_accuracy: 0.7814\n",
            "Epoch 10/100\n",
            "313/313 [==============================] - 12s 38ms/step - loss: 0.4729 - accuracy: 0.7877 - val_loss: 0.4741 - val_accuracy: 0.7882\n",
            "Epoch 11/100\n",
            "313/313 [==============================] - 12s 39ms/step - loss: 0.4617 - accuracy: 0.7950 - val_loss: 0.4673 - val_accuracy: 0.7930\n",
            "Epoch 12/100\n",
            "313/313 [==============================] - 12s 38ms/step - loss: 0.4524 - accuracy: 0.7973 - val_loss: 0.4594 - val_accuracy: 0.7950\n",
            "Epoch 13/100\n",
            "313/313 [==============================] - 12s 39ms/step - loss: 0.4452 - accuracy: 0.8034 - val_loss: 0.4577 - val_accuracy: 0.7912\n",
            "Epoch 14/100\n",
            "313/313 [==============================] - 12s 38ms/step - loss: 0.4398 - accuracy: 0.8044 - val_loss: 0.4504 - val_accuracy: 0.7980\n",
            "Epoch 15/100\n",
            "313/313 [==============================] - 12s 38ms/step - loss: 0.4346 - accuracy: 0.8069 - val_loss: 0.4490 - val_accuracy: 0.7934\n",
            "Epoch 16/100\n",
            "313/313 [==============================] - 12s 38ms/step - loss: 0.4307 - accuracy: 0.8086 - val_loss: 0.4444 - val_accuracy: 0.8000\n",
            "Epoch 17/100\n",
            "313/313 [==============================] - 12s 38ms/step - loss: 0.4273 - accuracy: 0.8103 - val_loss: 0.4426 - val_accuracy: 0.7974\n",
            "Epoch 18/100\n",
            "313/313 [==============================] - 12s 39ms/step - loss: 0.4243 - accuracy: 0.8104 - val_loss: 0.4469 - val_accuracy: 0.8004\n",
            "Epoch 19/100\n",
            "313/313 [==============================] - 12s 38ms/step - loss: 0.4227 - accuracy: 0.8103 - val_loss: 0.4401 - val_accuracy: 0.8010\n",
            "Epoch 20/100\n",
            "313/313 [==============================] - 12s 38ms/step - loss: 0.4209 - accuracy: 0.8123 - val_loss: 0.4449 - val_accuracy: 0.7944\n",
            "Epoch 21/100\n",
            "313/313 [==============================] - 12s 38ms/step - loss: 0.4191 - accuracy: 0.8117 - val_loss: 0.4380 - val_accuracy: 0.7980\n",
            "Epoch 22/100\n",
            "313/313 [==============================] - 12s 38ms/step - loss: 0.4178 - accuracy: 0.8115 - val_loss: 0.4374 - val_accuracy: 0.8004\n",
            "Epoch 23/100\n",
            "313/313 [==============================] - 12s 38ms/step - loss: 0.4165 - accuracy: 0.8130 - val_loss: 0.4386 - val_accuracy: 0.8020\n",
            "Epoch 24/100\n",
            "313/313 [==============================] - 12s 39ms/step - loss: 0.4156 - accuracy: 0.8122 - val_loss: 0.4394 - val_accuracy: 0.7948\n",
            "Epoch 25/100\n",
            "313/313 [==============================] - 12s 39ms/step - loss: 0.4144 - accuracy: 0.8129 - val_loss: 0.4374 - val_accuracy: 0.7972\n",
            "Epoch 26/100\n",
            "313/313 [==============================] - 12s 39ms/step - loss: 0.4135 - accuracy: 0.8127 - val_loss: 0.4356 - val_accuracy: 0.7988\n",
            "Epoch 27/100\n",
            "313/313 [==============================] - 13s 41ms/step - loss: 0.4131 - accuracy: 0.8143 - val_loss: 0.4360 - val_accuracy: 0.8008\n",
            "Epoch 28/100\n",
            "313/313 [==============================] - 12s 39ms/step - loss: 0.4122 - accuracy: 0.8137 - val_loss: 0.4360 - val_accuracy: 0.8020\n",
            "Epoch 29/100\n",
            "313/313 [==============================] - 12s 38ms/step - loss: 0.4113 - accuracy: 0.8126 - val_loss: 0.4356 - val_accuracy: 0.8012\n",
            "Epoch 30/100\n",
            "313/313 [==============================] - 12s 38ms/step - loss: 0.4111 - accuracy: 0.8140 - val_loss: 0.4363 - val_accuracy: 0.8028\n",
            "Epoch 31/100\n",
            "313/313 [==============================] - 12s 38ms/step - loss: 0.4102 - accuracy: 0.8146 - val_loss: 0.4357 - val_accuracy: 0.8004\n",
            "Epoch 32/100\n",
            "313/313 [==============================] - 12s 38ms/step - loss: 0.4097 - accuracy: 0.8159 - val_loss: 0.4346 - val_accuracy: 0.8020\n",
            "Epoch 33/100\n",
            "313/313 [==============================] - 12s 38ms/step - loss: 0.4091 - accuracy: 0.8147 - val_loss: 0.4353 - val_accuracy: 0.7994\n",
            "Epoch 34/100\n",
            "313/313 [==============================] - 12s 38ms/step - loss: 0.4090 - accuracy: 0.8154 - val_loss: 0.4349 - val_accuracy: 0.8022\n",
            "Epoch 35/100\n",
            "313/313 [==============================] - 12s 38ms/step - loss: 0.4083 - accuracy: 0.8164 - val_loss: 0.4345 - val_accuracy: 0.8014\n",
            "Epoch 36/100\n",
            "313/313 [==============================] - 12s 38ms/step - loss: 0.4077 - accuracy: 0.8156 - val_loss: 0.4334 - val_accuracy: 0.7996\n",
            "Epoch 37/100\n",
            "313/313 [==============================] - 12s 38ms/step - loss: 0.4075 - accuracy: 0.8148 - val_loss: 0.4333 - val_accuracy: 0.8016\n",
            "Epoch 38/100\n",
            "313/313 [==============================] - 12s 38ms/step - loss: 0.4071 - accuracy: 0.8140 - val_loss: 0.4362 - val_accuracy: 0.7950\n",
            "Epoch 39/100\n",
            "313/313 [==============================] - 12s 38ms/step - loss: 0.4065 - accuracy: 0.8160 - val_loss: 0.4374 - val_accuracy: 0.8030\n",
            "Epoch 40/100\n",
            "313/313 [==============================] - 12s 38ms/step - loss: 0.4062 - accuracy: 0.8165 - val_loss: 0.4357 - val_accuracy: 0.8026\n"
          ]
        }
      ],
      "source": [
        "rmsprop = keras.optimizers.RMSprop(learning_rate = 1e-4)\n",
        "model.compile(optimizer=rmsprop, loss='binary_crossentropy', metrics=['accuracy'])\n",
        "\n",
        "checkpoint_cb = keras.callbacks.ModelCheckpoint('best-lstm-model.h5')\n",
        "early_stopping_cb = keras.callbacks.EarlyStopping(patience=3, restore_best_weights=True)\n",
        "\n",
        "history = model.fit(train_seq, train_target, epochs=100, batch_size=64, validation_data=[val_seq, val_target], callbacks=[checkpoint_cb, early_stopping_cb])"
      ]
    },
    {
      "cell_type": "code",
      "execution_count": null,
      "metadata": {
        "colab": {
          "base_uri": "https://localhost:8080/",
          "height": 54
        },
        "id": "ins1tC_IGdJw",
        "outputId": "ac0ed6f9-58ee-4c2b-8457-31fb64b71604"
      },
      "outputs": [
        {
          "data": {
            "image/png": "[encoded data removed]",
            "text/plain": [
              "<Figure size 432x288 with 1 Axes>"
            ]
          },
          "metadata": {},
          "output_type": "display_data"
        }
      ],
      "source": [
        "import matplotlib.pyplot as plt\n",
        "plt.plot(history.history['loss'])\n",
        "plt.plot(history.history['val_loss'])\n",
        "plt.xlabel('epoch')\n",
        "plt.ylabel('loss')\n",
        "plt.legend(['train', 'val'])\n",
        "plt.show()"
      ]
    },
    {
      "cell_type": "code",
      "execution_count": null,
      "metadata": {
        "colab": {
          "base_uri": "https://localhost:8080/"
        },
        "id": "6NVQkNygI-6A",
        "outputId": "6cd68be1-a5b0-496d-b5f0-26354973115b"
      },
      "outputs": [
        {
          "name": "stdout",
          "output_type": "stream",
          "text": [
            "Epoch 1/100\n",
            "313/313 [==============================] - 15s 41ms/step - loss: 0.6924 - accuracy: 0.5314 - val_loss: 0.6912 - val_accuracy: 0.5838\n",
            "Epoch 2/100\n",
            "313/313 [==============================] - 12s 40ms/step - loss: 0.6904 - accuracy: 0.5845 - val_loss: 0.6887 - val_accuracy: 0.6164\n",
            "Epoch 3/100\n",
            "313/313 [==============================] - 13s 41ms/step - loss: 0.6865 - accuracy: 0.6212 - val_loss: 0.6831 - val_accuracy: 0.6462\n",
            "Epoch 4/100\n",
            "313/313 [==============================] - 13s 40ms/step - loss: 0.6753 - accuracy: 0.6463 - val_loss: 0.6608 - val_accuracy: 0.6586\n",
            "Epoch 5/100\n",
            "313/313 [==============================] - 13s 41ms/step - loss: 0.6247 - accuracy: 0.6877 - val_loss: 0.6028 - val_accuracy: 0.7144\n",
            "Epoch 6/100\n",
            "313/313 [==============================] - 13s 40ms/step - loss: 0.5883 - accuracy: 0.7212 - val_loss: 0.5768 - val_accuracy: 0.7212\n",
            "Epoch 7/100\n",
            "313/313 [==============================] - 13s 40ms/step - loss: 0.5649 - accuracy: 0.7329 - val_loss: 0.5521 - val_accuracy: 0.7426\n",
            "Epoch 8/100\n",
            "313/313 [==============================] - 13s 40ms/step - loss: 0.5417 - accuracy: 0.7472 - val_loss: 0.5294 - val_accuracy: 0.7526\n",
            "Epoch 9/100\n",
            "313/313 [==============================] - 13s 40ms/step - loss: 0.5242 - accuracy: 0.7583 - val_loss: 0.5129 - val_accuracy: 0.7652\n",
            "Epoch 10/100\n",
            "313/313 [==============================] - 12s 40ms/step - loss: 0.5079 - accuracy: 0.7675 - val_loss: 0.5007 - val_accuracy: 0.7744\n",
            "Epoch 11/100\n",
            "313/313 [==============================] - 13s 41ms/step - loss: 0.4946 - accuracy: 0.7746 - val_loss: 0.4884 - val_accuracy: 0.7796\n",
            "Epoch 12/100\n",
            "313/313 [==============================] - 13s 40ms/step - loss: 0.4830 - accuracy: 0.7825 - val_loss: 0.4777 - val_accuracy: 0.7866\n",
            "Epoch 13/100\n",
            "313/313 [==============================] - 12s 39ms/step - loss: 0.4748 - accuracy: 0.7861 - val_loss: 0.4719 - val_accuracy: 0.7838\n",
            "Epoch 14/100\n",
            "313/313 [==============================] - 13s 40ms/step - loss: 0.4652 - accuracy: 0.7898 - val_loss: 0.4634 - val_accuracy: 0.7958\n",
            "Epoch 15/100\n",
            "313/313 [==============================] - 13s 40ms/step - loss: 0.4576 - accuracy: 0.7932 - val_loss: 0.4573 - val_accuracy: 0.7960\n",
            "Epoch 16/100\n",
            "313/313 [==============================] - 12s 40ms/step - loss: 0.4509 - accuracy: 0.7954 - val_loss: 0.4522 - val_accuracy: 0.7984\n",
            "Epoch 17/100\n",
            "313/313 [==============================] - 13s 40ms/step - loss: 0.4458 - accuracy: 0.7987 - val_loss: 0.4478 - val_accuracy: 0.7992\n",
            "Epoch 18/100\n",
            "313/313 [==============================] - 13s 40ms/step - loss: 0.4421 - accuracy: 0.8012 - val_loss: 0.4445 - val_accuracy: 0.8028\n",
            "Epoch 19/100\n",
            "313/313 [==============================] - 13s 40ms/step - loss: 0.4380 - accuracy: 0.8022 - val_loss: 0.4411 - val_accuracy: 0.7998\n",
            "Epoch 20/100\n",
            "313/313 [==============================] - 13s 40ms/step - loss: 0.4327 - accuracy: 0.8040 - val_loss: 0.4389 - val_accuracy: 0.8012\n",
            "Epoch 21/100\n",
            "313/313 [==============================] - 12s 40ms/step - loss: 0.4312 - accuracy: 0.8049 - val_loss: 0.4379 - val_accuracy: 0.8002\n",
            "Epoch 22/100\n",
            "313/313 [==============================] - 12s 39ms/step - loss: 0.4289 - accuracy: 0.8040 - val_loss: 0.4372 - val_accuracy: 0.8004\n",
            "Epoch 23/100\n",
            "313/313 [==============================] - 13s 40ms/step - loss: 0.4278 - accuracy: 0.8047 - val_loss: 0.4347 - val_accuracy: 0.7988\n",
            "Epoch 24/100\n",
            "313/313 [==============================] - 12s 40ms/step - loss: 0.4253 - accuracy: 0.8069 - val_loss: 0.4333 - val_accuracy: 0.8002\n",
            "Epoch 25/100\n",
            "313/313 [==============================] - 13s 41ms/step - loss: 0.4227 - accuracy: 0.8072 - val_loss: 0.4332 - val_accuracy: 0.8016\n",
            "Epoch 26/100\n",
            "313/313 [==============================] - 13s 40ms/step - loss: 0.4209 - accuracy: 0.8058 - val_loss: 0.4314 - val_accuracy: 0.8012\n",
            "Epoch 27/100\n",
            "313/313 [==============================] - 13s 40ms/step - loss: 0.4206 - accuracy: 0.8070 - val_loss: 0.4306 - val_accuracy: 0.8008\n",
            "Epoch 28/100\n",
            "313/313 [==============================] - 13s 40ms/step - loss: 0.4207 - accuracy: 0.8062 - val_loss: 0.4307 - val_accuracy: 0.7996\n",
            "Epoch 29/100\n",
            "313/313 [==============================] - 13s 40ms/step - loss: 0.4183 - accuracy: 0.8072 - val_loss: 0.4297 - val_accuracy: 0.8030\n",
            "Epoch 30/100\n",
            "313/313 [==============================] - 13s 40ms/step - loss: 0.4171 - accuracy: 0.8063 - val_loss: 0.4290 - val_accuracy: 0.8014\n",
            "Epoch 31/100\n",
            "313/313 [==============================] - 13s 40ms/step - loss: 0.4157 - accuracy: 0.8088 - val_loss: 0.4287 - val_accuracy: 0.8022\n",
            "Epoch 32/100\n",
            "313/313 [==============================] - 13s 40ms/step - loss: 0.4153 - accuracy: 0.8113 - val_loss: 0.4297 - val_accuracy: 0.8030\n",
            "Epoch 33/100\n",
            "313/313 [==============================] - 13s 40ms/step - loss: 0.4152 - accuracy: 0.8091 - val_loss: 0.4303 - val_accuracy: 0.8024\n",
            "Epoch 34/100\n",
            "313/313 [==============================] - 13s 40ms/step - loss: 0.4142 - accuracy: 0.8113 - val_loss: 0.4296 - val_accuracy: 0.7982\n"
          ]
        }
      ],
      "source": [
        "# 순환층에 드롭아웃 적용\n",
        "# drop 매개변수 : 셀의 입력에 드롭아웃 적용\n",
        "# recurrent_dropout : 순환되는 은닉 상태에 드롭아웃 적용\n",
        "# 그러나 gpu 사용해서 모델 훈련 불가능\n",
        "\n",
        "model2 = keras.Sequential()\n",
        "model2.add(keras.layers.Embedding(500, 16, input_length=100))\n",
        "model2.add(keras.layers.LSTM(8, dropout=0.3))\n",
        "model2.add(keras.layers.Dense(1, activation='sigmoid'))\n",
        "\n",
        "rmsprop = keras.optimizers.RMSprop(learning_rate = 1e-4)\n",
        "model2.compile(optimizer=rmsprop, loss='binary_crossentropy', metrics=['accuracy'])\n",
        "\n",
        "checkpoint_cb = keras.callbacks.ModelCheckpoint('best-drop-model.h5')\n",
        "early_stopping_cb = keras.callbacks.EarlyStopping(patience=3, restore_best_weights=True)\n",
        "\n",
        "history = model2.fit(train_seq, train_target, epochs=100, batch_size=64, validation_data=[val_seq, val_target], callbacks=[checkpoint_cb, early_stopping_cb])"
      ]
    },
    {
      "cell_type": "code",
      "execution_count": null,
      "metadata": {
        "colab": {
          "base_uri": "https://localhost:8080/",
          "height": 54
        },
        "id": "IgaQQKEWKCAz",
        "outputId": "cf180cc3-63b1-4c80-a0ba-26c93bb87edc"
      },
      "outputs": [
        {
          "data": {
            "image/png": "[encoded data removed]",
            "text/plain": [
              "<Figure size 432x288 with 1 Axes>"
            ]
          },
          "metadata": {},
          "output_type": "display_data"
        }
      ],
      "source": [
        "plt.plot(history.history['loss'])\n",
        "plt.plot(history.history['val_loss'])\n",
        "plt.xlabel('epoch')\n",
        "plt.ylabel('loss')\n",
        "plt.legend(['train', 'val'])\n",
        "plt.show()"
      ]
    },
    {
      "cell_type": "code",
      "execution_count": null,
      "metadata": {
        "id": "8mD_cpB5KTF9"
      },
      "outputs": [],
      "source": [
        "# 2개의 층 연결하기\n",
        "# 순환층의 은닉 상태는 샘플의 마지막 타임스텝에 대한 은닉 상태만 다음 층으로 전달\n",
        "# 순환 층을 쌓게 되면 모든 층에 순차 데이터 필요\n",
        "# 출력층을 제외한 모든 순환층에 return_sequences=True\n",
        "\n",
        "model3 = keras.Sequential()\n",
        "model3.add(keras.layers.Embedding(500, 16, input_length=100))\n",
        "model3.add(keras.layers.LSTM(8, dropout=0.3, return_sequences=True))\n",
        "model3.add(keras.layers.LSTM(8, dropout=0.3))\n",
        "model3.add(keras.layers.Dense(1, activation='sigmoid'))"
      ]
    },
    {
      "cell_type": "code",
      "execution_count": null,
      "metadata": {
        "colab": {
          "base_uri": "https://localhost:8080/"
        },
        "id": "CiNrEybrKwhQ",
        "outputId": "faee7b8d-e779-461e-9be5-6bd347d20799"
      },
      "outputs": [
        {
          "name": "stdout",
          "output_type": "stream",
          "text": [
            "Model: \"sequential_2\"\n",
            "_________________________________________________________________\n",
            " Layer (type)                Output Shape              Param #   \n",
            "=================================================================\n",
            " embedding_2 (Embedding)     (None, 100, 16)           8000      \n",
            "                                                                 \n",
            " lstm_2 (LSTM)               (None, 100, 8)            800       \n",
            "                                                                 \n",
            " lstm_3 (LSTM)               (None, 8)                 544       \n",
            "                                                                 \n",
            " dense_2 (Dense)             (None, 1)                 9         \n",
            "                                                                 \n",
            "=================================================================\n",
            "Total params: 9,353\n",
            "Trainable params: 9,353\n",
            "Non-trainable params: 0\n",
            "_________________________________________________________________\n"
          ]
        }
      ],
      "source": [
        "model3.summary()"
      ]
    },
    {
      "cell_type": "code",
      "execution_count": null,
      "metadata": {
        "colab": {
          "background_save": true,
          "base_uri": "https://localhost:8080/"
        },
        "id": "mEcjVa9_Kyd3",
        "outputId": "667d05f1-4560-42f6-d7d5-b7d027dd93b1"
      },
      "outputs": [
        {
          "name": "stdout",
          "output_type": "stream",
          "text": [
            "Epoch 1/100\n",
            "313/313 [==============================] - 28s 79ms/step - loss: 0.6926 - accuracy: 0.5325 - val_loss: 0.6921 - val_accuracy: 0.5888\n",
            "Epoch 2/100\n",
            "313/313 [==============================] - 24s 76ms/step - loss: 0.6902 - accuracy: 0.6008 - val_loss: 0.6878 - val_accuracy: 0.6592\n",
            "Epoch 3/100\n",
            "313/313 [==============================] - 24s 75ms/step - loss: 0.6777 - accuracy: 0.6657 - val_loss: 0.6568 - val_accuracy: 0.7010\n",
            "Epoch 4/100\n",
            "313/313 [==============================] - 23s 75ms/step - loss: 0.6032 - accuracy: 0.7082 - val_loss: 0.5725 - val_accuracy: 0.7170\n",
            "Epoch 5/100\n",
            "313/313 [==============================] - 23s 75ms/step - loss: 0.5584 - accuracy: 0.7312 - val_loss: 0.5445 - val_accuracy: 0.7394\n",
            "Epoch 6/100\n",
            "313/313 [==============================] - 23s 74ms/step - loss: 0.5360 - accuracy: 0.7467 - val_loss: 0.5226 - val_accuracy: 0.7556\n",
            "Epoch 7/100\n",
            "313/313 [==============================] - 23s 74ms/step - loss: 0.5182 - accuracy: 0.7568 - val_loss: 0.5095 - val_accuracy: 0.7682\n",
            "Epoch 8/100\n",
            "313/313 [==============================] - 23s 73ms/step - loss: 0.5033 - accuracy: 0.7689 - val_loss: 0.4971 - val_accuracy: 0.7704\n",
            "Epoch 9/100\n",
            "313/313 [==============================] - 23s 73ms/step - loss: 0.4917 - accuracy: 0.7753 - val_loss: 0.4909 - val_accuracy: 0.7726\n",
            "Epoch 10/100\n",
            "313/313 [==============================] - 23s 72ms/step - loss: 0.4824 - accuracy: 0.7821 - val_loss: 0.4893 - val_accuracy: 0.7726\n",
            "Epoch 11/100\n",
            "313/313 [==============================] - 23s 72ms/step - loss: 0.4756 - accuracy: 0.7854 - val_loss: 0.4772 - val_accuracy: 0.7780\n",
            "Epoch 12/100\n",
            "313/313 [==============================] - 23s 72ms/step - loss: 0.4730 - accuracy: 0.7844 - val_loss: 0.4825 - val_accuracy: 0.7794\n",
            "Epoch 13/100\n",
            "313/313 [==============================] - 22s 72ms/step - loss: 0.4686 - accuracy: 0.7863 - val_loss: 0.4691 - val_accuracy: 0.7860\n",
            "Epoch 14/100\n",
            "313/313 [==============================] - 22s 71ms/step - loss: 0.4653 - accuracy: 0.7885 - val_loss: 0.4681 - val_accuracy: 0.7842\n",
            "Epoch 15/100\n",
            "313/313 [==============================] - 22s 71ms/step - loss: 0.4613 - accuracy: 0.7877 - val_loss: 0.4659 - val_accuracy: 0.7866\n",
            "Epoch 16/100\n",
            "313/313 [==============================] - 22s 72ms/step - loss: 0.4574 - accuracy: 0.7951 - val_loss: 0.4649 - val_accuracy: 0.7854\n",
            "Epoch 17/100\n",
            "313/313 [==============================] - 22s 72ms/step - loss: 0.4552 - accuracy: 0.7932 - val_loss: 0.4614 - val_accuracy: 0.7884\n",
            "Epoch 18/100\n",
            "313/313 [==============================] - 23s 73ms/step - loss: 0.4536 - accuracy: 0.7939 - val_loss: 0.4575 - val_accuracy: 0.7872\n",
            "Epoch 19/100\n",
            "313/313 [==============================] - 23s 72ms/step - loss: 0.4516 - accuracy: 0.7947 - val_loss: 0.4564 - val_accuracy: 0.7890\n",
            "Epoch 20/100\n",
            "313/313 [==============================] - 22s 72ms/step - loss: 0.4490 - accuracy: 0.7980 - val_loss: 0.4542 - val_accuracy: 0.7878\n",
            "Epoch 21/100\n",
            "313/313 [==============================] - 23s 73ms/step - loss: 0.4462 - accuracy: 0.7980 - val_loss: 0.4528 - val_accuracy: 0.7882\n",
            "Epoch 22/100\n",
            "313/313 [==============================] - 23s 72ms/step - loss: 0.4445 - accuracy: 0.8003 - val_loss: 0.4513 - val_accuracy: 0.7900\n",
            "Epoch 23/100\n",
            "313/313 [==============================] - 23s 73ms/step - loss: 0.4445 - accuracy: 0.7962 - val_loss: 0.4493 - val_accuracy: 0.7908\n",
            "Epoch 24/100\n",
            "313/313 [==============================] - 22s 72ms/step - loss: 0.4413 - accuracy: 0.7982 - val_loss: 0.4492 - val_accuracy: 0.7898\n",
            "Epoch 25/100\n",
            "313/313 [==============================] - 22s 72ms/step - loss: 0.4413 - accuracy: 0.7998 - val_loss: 0.4473 - val_accuracy: 0.7922\n",
            "Epoch 26/100\n",
            "313/313 [==============================] - 23s 72ms/step - loss: 0.4395 - accuracy: 0.7991 - val_loss: 0.4462 - val_accuracy: 0.7914\n",
            "Epoch 27/100\n",
            "313/313 [==============================] - 23s 73ms/step - loss: 0.4366 - accuracy: 0.8023 - val_loss: 0.4452 - val_accuracy: 0.7922\n",
            "Epoch 28/100\n",
            "313/313 [==============================] - 23s 73ms/step - loss: 0.4358 - accuracy: 0.8033 - val_loss: 0.4442 - val_accuracy: 0.7914\n",
            "Epoch 29/100\n",
            "313/313 [==============================] - 23s 73ms/step - loss: 0.4360 - accuracy: 0.8030 - val_loss: 0.4460 - val_accuracy: 0.7878\n",
            "Epoch 30/100\n",
            "313/313 [==============================] - 23s 73ms/step - loss: 0.4350 - accuracy: 0.8012 - val_loss: 0.4426 - val_accuracy: 0.7946\n",
            "Epoch 31/100\n",
            "313/313 [==============================] - 23s 73ms/step - loss: 0.4322 - accuracy: 0.8039 - val_loss: 0.4411 - val_accuracy: 0.7956\n",
            "Epoch 32/100\n",
            "313/313 [==============================] - 23s 72ms/step - loss: 0.4325 - accuracy: 0.8038 - val_loss: 0.4472 - val_accuracy: 0.7878\n",
            "Epoch 33/100\n",
            "313/313 [==============================] - 23s 72ms/step - loss: 0.4323 - accuracy: 0.8030 - val_loss: 0.4391 - val_accuracy: 0.7968\n",
            "Epoch 34/100\n",
            "313/313 [==============================] - 23s 73ms/step - loss: 0.4287 - accuracy: 0.8069 - val_loss: 0.4442 - val_accuracy: 0.7982\n",
            "Epoch 35/100\n",
            "313/313 [==============================] - 23s 72ms/step - loss: 0.4303 - accuracy: 0.8041 - val_loss: 0.4395 - val_accuracy: 0.7990\n",
            "Epoch 36/100\n",
            "313/313 [==============================] - 23s 73ms/step - loss: 0.4278 - accuracy: 0.8040 - val_loss: 0.4369 - val_accuracy: 0.7996\n",
            "Epoch 37/100\n",
            "313/313 [==============================] - 23s 73ms/step - loss: 0.4255 - accuracy: 0.8061 - val_loss: 0.4377 - val_accuracy: 0.7988\n",
            "Epoch 38/100\n",
            "313/313 [==============================] - 23s 73ms/step - loss: 0.4250 - accuracy: 0.8043 - val_loss: 0.4367 - val_accuracy: 0.7974\n",
            "Epoch 39/100\n",
            "313/313 [==============================] - 22s 72ms/step - loss: 0.4252 - accuracy: 0.8044 - val_loss: 0.4352 - val_accuracy: 0.7956\n",
            "Epoch 40/100\n",
            "313/313 [==============================] - 23s 72ms/step - loss: 0.4236 - accuracy: 0.8061 - val_loss: 0.4342 - val_accuracy: 0.7964\n",
            "Epoch 41/100\n",
            "313/313 [==============================] - 23s 72ms/step - loss: 0.4238 - accuracy: 0.8062 - val_loss: 0.4347 - val_accuracy: 0.7998\n",
            "Epoch 42/100\n",
            "313/313 [==============================] - 23s 72ms/step - loss: 0.4223 - accuracy: 0.8062 - val_loss: 0.4342 - val_accuracy: 0.7944\n",
            "Epoch 43/100\n",
            "313/313 [==============================] - 23s 72ms/step - loss: 0.4224 - accuracy: 0.8077 - val_loss: 0.4345 - val_accuracy: 0.8008\n",
            "Epoch 44/100\n",
            "313/313 [==============================] - 23s 72ms/step - loss: 0.4213 - accuracy: 0.8073 - val_loss: 0.4313 - val_accuracy: 0.7996\n",
            "Epoch 45/100\n",
            "313/313 [==============================] - 23s 72ms/step - loss: 0.4196 - accuracy: 0.8080 - val_loss: 0.4312 - val_accuracy: 0.8038\n",
            "Epoch 46/100\n",
            "313/313 [==============================] - 23s 72ms/step - loss: 0.4198 - accuracy: 0.8068 - val_loss: 0.4305 - val_accuracy: 0.8032\n",
            "Epoch 47/100\n",
            "313/313 [==============================] - 23s 73ms/step - loss: 0.4189 - accuracy: 0.8084 - val_loss: 0.4373 - val_accuracy: 0.7982\n",
            "Epoch 48/100\n",
            "313/313 [==============================] - 23s 73ms/step - loss: 0.4168 - accuracy: 0.8095 - val_loss: 0.4295 - val_accuracy: 0.8040\n",
            "Epoch 49/100\n",
            "313/313 [==============================] - 23s 72ms/step - loss: 0.4168 - accuracy: 0.8091 - val_loss: 0.4306 - val_accuracy: 0.8024\n",
            "Epoch 50/100\n",
            "313/313 [==============================] - 23s 72ms/step - loss: 0.4164 - accuracy: 0.8095 - val_loss: 0.4310 - val_accuracy: 0.8014\n",
            "Epoch 51/100\n",
            "313/313 [==============================] - 23s 73ms/step - loss: 0.4148 - accuracy: 0.8095 - val_loss: 0.4324 - val_accuracy: 0.8002\n"
          ]
        }
      ],
      "source": [
        "rmsprop = keras.optimizers.RMSprop(learning_rate = 1e-4)\n",
        "model3.compile(optimizer=rmsprop, loss='binary_crossentropy', metrics=['accuracy'])\n",
        "\n",
        "checkpoint_cb = keras.callbacks.ModelCheckpoint('best-2rnn-model.h5')\n",
        "early_stopping_cb = keras.callbacks.EarlyStopping(patience=3, restore_best_weights=True)\n",
        "\n",
        "history = model3.fit(train_seq, train_target, epochs=100, batch_size=64, validation_data=[val_seq, val_target], callbacks=[checkpoint_cb, early_stopping_cb])"
      ]
    },
    {
      "cell_type": "code",
      "execution_count": null,
      "metadata": {
        "colab": {
          "background_save": true
        },
        "id": "qhWSEni8K74m",
        "outputId": "4aed79f6-8aef-42c1-fd1a-1140fed9d88a"
      },
      "outputs": [
        {
          "data": {
            "image/png": "[encoded data removed]",
            "text/plain": [
              "<Figure size 432x288 with 1 Axes>"
            ]
          },
          "metadata": {},
          "output_type": "display_data"
        }
      ],
      "source": [
        "plt.plot(history.history['loss'])\n",
        "plt.plot(history.history['val_loss'])\n",
        "plt.xlabel('epoch')\n",
        "plt.ylabel('loss')\n",
        "plt.legend(['train', 'val'])\n",
        "plt.show()"
      ]
    },
    {
      "cell_type": "code",
      "execution_count": null,
      "metadata": {
        "colab": {
          "background_save": true
        },
        "id": "-xdsJIVrLADV",
        "outputId": "b12130cc-da02-425b-c38a-a556410a3b79"
      },
      "outputs": [
        {
          "name": "stdout",
          "output_type": "stream",
          "text": [
            "Model: \"sequential_3\"\n",
            "_________________________________________________________________\n",
            " Layer (type)                Output Shape              Param #   \n",
            "=================================================================\n",
            " embedding_3 (Embedding)     (None, 100, 16)           8000      \n",
            "                                                                 \n",
            " gru (GRU)                   (None, 8)                 624       \n",
            "                                                                 \n",
            " dense_3 (Dense)             (None, 1)                 9         \n",
            "                                                                 \n",
            "=================================================================\n",
            "Total params: 8,633\n",
            "Trainable params: 8,633\n",
            "Non-trainable params: 0\n",
            "_________________________________________________________________\n"
          ]
        }
      ],
      "source": [
        "# GRU 구조, LSTM을 간소화한 버전\n",
        "# 셀 상태를 계산하지 않고 은닉 상태만 포함\n",
        "# 가중치가 LSTM보다 적지만 그에 못지않은 좋은 성능 가짐\n",
        "\n",
        "model4 = keras.Sequential()\n",
        "model4.add(keras.layers.Embedding(500, 16, input_length=100))\n",
        "model4.add(keras.layers.GRU(8))\n",
        "model4.add(keras.layers.Dense(1, activation='sigmoid'))\n",
        "\n",
        "model4.summary()"
      ]
    },
    {
      "cell_type": "code",
      "execution_count": null,
      "metadata": {
        "colab": {
          "background_save": true
        },
        "id": "vukwzwyQLjnY",
        "outputId": "1ddad3f2-d678-41a5-8dc1-18b1b4fff7ea"
      },
      "outputs": [
        {
          "name": "stdout",
          "output_type": "stream",
          "text": [
            "Epoch 1/100\n",
            "313/313 [==============================] - 15s 42ms/step - loss: 0.6925 - accuracy: 0.5350 - val_loss: 0.6919 - val_accuracy: 0.5752\n",
            "Epoch 2/100\n",
            "313/313 [==============================] - 13s 41ms/step - loss: 0.6905 - accuracy: 0.5797 - val_loss: 0.6895 - val_accuracy: 0.5902\n",
            "Epoch 3/100\n",
            "313/313 [==============================] - 13s 41ms/step - loss: 0.6871 - accuracy: 0.6033 - val_loss: 0.6853 - val_accuracy: 0.6018\n",
            "Epoch 4/100\n",
            "313/313 [==============================] - 13s 40ms/step - loss: 0.6810 - accuracy: 0.6193 - val_loss: 0.6782 - val_accuracy: 0.6190\n",
            "Epoch 5/100\n",
            "313/313 [==============================] - 13s 40ms/step - loss: 0.6706 - accuracy: 0.6327 - val_loss: 0.6662 - val_accuracy: 0.6282\n",
            "Epoch 6/100\n",
            "313/313 [==============================] - 13s 40ms/step - loss: 0.6535 - accuracy: 0.6482 - val_loss: 0.6465 - val_accuracy: 0.6488\n",
            "Epoch 7/100\n",
            "313/313 [==============================] - 13s 40ms/step - loss: 0.6243 - accuracy: 0.6725 - val_loss: 0.6112 - val_accuracy: 0.6804\n",
            "Epoch 8/100\n",
            "313/313 [==============================] - 13s 41ms/step - loss: 0.5752 - accuracy: 0.7056 - val_loss: 0.5640 - val_accuracy: 0.7136\n",
            "Epoch 9/100\n",
            "313/313 [==============================] - 13s 41ms/step - loss: 0.5359 - accuracy: 0.7361 - val_loss: 0.5395 - val_accuracy: 0.7336\n",
            "Epoch 10/100\n",
            "313/313 [==============================] - 13s 40ms/step - loss: 0.5169 - accuracy: 0.7488 - val_loss: 0.5263 - val_accuracy: 0.7414\n",
            "Epoch 11/100\n",
            "313/313 [==============================] - 13s 41ms/step - loss: 0.5032 - accuracy: 0.7599 - val_loss: 0.5157 - val_accuracy: 0.7526\n",
            "Epoch 12/100\n",
            "313/313 [==============================] - 13s 41ms/step - loss: 0.4926 - accuracy: 0.7682 - val_loss: 0.5072 - val_accuracy: 0.7608\n",
            "Epoch 13/100\n",
            "313/313 [==============================] - 13s 41ms/step - loss: 0.4835 - accuracy: 0.7732 - val_loss: 0.5009 - val_accuracy: 0.7560\n",
            "Epoch 14/100\n",
            "313/313 [==============================] - 13s 42ms/step - loss: 0.4762 - accuracy: 0.7767 - val_loss: 0.4926 - val_accuracy: 0.7664\n",
            "Epoch 15/100\n",
            "313/313 [==============================] - 13s 43ms/step - loss: 0.4695 - accuracy: 0.7818 - val_loss: 0.4862 - val_accuracy: 0.7698\n",
            "Epoch 16/100\n",
            "313/313 [==============================] - 13s 42ms/step - loss: 0.4634 - accuracy: 0.7857 - val_loss: 0.4807 - val_accuracy: 0.7716\n",
            "Epoch 17/100\n",
            "313/313 [==============================] - 13s 41ms/step - loss: 0.4585 - accuracy: 0.7890 - val_loss: 0.4764 - val_accuracy: 0.7704\n",
            "Epoch 18/100\n",
            "313/313 [==============================] - 13s 42ms/step - loss: 0.4539 - accuracy: 0.7918 - val_loss: 0.4735 - val_accuracy: 0.7708\n",
            "Epoch 19/100\n",
            "313/313 [==============================] - 13s 41ms/step - loss: 0.4497 - accuracy: 0.7935 - val_loss: 0.4681 - val_accuracy: 0.7782\n",
            "Epoch 20/100\n",
            "313/313 [==============================] - 13s 41ms/step - loss: 0.4458 - accuracy: 0.7972 - val_loss: 0.4648 - val_accuracy: 0.7786\n",
            "Epoch 21/100\n",
            "313/313 [==============================] - 13s 41ms/step - loss: 0.4424 - accuracy: 0.7984 - val_loss: 0.4619 - val_accuracy: 0.7820\n",
            "Epoch 22/100\n",
            "313/313 [==============================] - 13s 41ms/step - loss: 0.4395 - accuracy: 0.8026 - val_loss: 0.4603 - val_accuracy: 0.7830\n",
            "Epoch 23/100\n",
            "313/313 [==============================] - 13s 41ms/step - loss: 0.4368 - accuracy: 0.8018 - val_loss: 0.4585 - val_accuracy: 0.7868\n",
            "Epoch 24/100\n",
            "313/313 [==============================] - 13s 41ms/step - loss: 0.4347 - accuracy: 0.8051 - val_loss: 0.4566 - val_accuracy: 0.7832\n",
            "Epoch 25/100\n",
            "313/313 [==============================] - 13s 41ms/step - loss: 0.4328 - accuracy: 0.8053 - val_loss: 0.4558 - val_accuracy: 0.7826\n",
            "Epoch 26/100\n",
            "313/313 [==============================] - 13s 41ms/step - loss: 0.4310 - accuracy: 0.8072 - val_loss: 0.4548 - val_accuracy: 0.7826\n",
            "Epoch 27/100\n",
            "313/313 [==============================] - 13s 41ms/step - loss: 0.4290 - accuracy: 0.8084 - val_loss: 0.4525 - val_accuracy: 0.7912\n",
            "Epoch 28/100\n",
            "313/313 [==============================] - 13s 41ms/step - loss: 0.4277 - accuracy: 0.8098 - val_loss: 0.4510 - val_accuracy: 0.7898\n",
            "Epoch 29/100\n",
            "313/313 [==============================] - 13s 41ms/step - loss: 0.4263 - accuracy: 0.8097 - val_loss: 0.4501 - val_accuracy: 0.7910\n",
            "Epoch 30/100\n",
            "313/313 [==============================] - 13s 41ms/step - loss: 0.4249 - accuracy: 0.8113 - val_loss: 0.4491 - val_accuracy: 0.7918\n",
            "Epoch 31/100\n",
            "313/313 [==============================] - 13s 41ms/step - loss: 0.4240 - accuracy: 0.8105 - val_loss: 0.4483 - val_accuracy: 0.7908\n",
            "Epoch 32/100\n",
            "313/313 [==============================] - 13s 41ms/step - loss: 0.4231 - accuracy: 0.8127 - val_loss: 0.4481 - val_accuracy: 0.7944\n",
            "Epoch 33/100\n",
            "313/313 [==============================] - 13s 40ms/step - loss: 0.4216 - accuracy: 0.8134 - val_loss: 0.4472 - val_accuracy: 0.7904\n",
            "Epoch 34/100\n",
            "313/313 [==============================] - 13s 40ms/step - loss: 0.4210 - accuracy: 0.8119 - val_loss: 0.4470 - val_accuracy: 0.7914\n",
            "Epoch 35/100\n",
            "313/313 [==============================] - 13s 41ms/step - loss: 0.4200 - accuracy: 0.8117 - val_loss: 0.4489 - val_accuracy: 0.7960\n",
            "Epoch 36/100\n",
            "313/313 [==============================] - 13s 40ms/step - loss: 0.4194 - accuracy: 0.8138 - val_loss: 0.4481 - val_accuracy: 0.7950\n",
            "Epoch 37/100\n",
            "313/313 [==============================] - 13s 41ms/step - loss: 0.4188 - accuracy: 0.8137 - val_loss: 0.4455 - val_accuracy: 0.7922\n",
            "Epoch 38/100\n",
            "313/313 [==============================] - 13s 41ms/step - loss: 0.4181 - accuracy: 0.8141 - val_loss: 0.4454 - val_accuracy: 0.7926\n",
            "Epoch 39/100\n",
            "313/313 [==============================] - 13s 41ms/step - loss: 0.4176 - accuracy: 0.8139 - val_loss: 0.4455 - val_accuracy: 0.7956\n",
            "Epoch 40/100\n",
            "313/313 [==============================] - 13s 41ms/step - loss: 0.4171 - accuracy: 0.8147 - val_loss: 0.4438 - val_accuracy: 0.7948\n",
            "Epoch 41/100\n",
            "313/313 [==============================] - 13s 41ms/step - loss: 0.4167 - accuracy: 0.8159 - val_loss: 0.4437 - val_accuracy: 0.7928\n",
            "Epoch 42/100\n",
            "313/313 [==============================] - 13s 41ms/step - loss: 0.4165 - accuracy: 0.8143 - val_loss: 0.4446 - val_accuracy: 0.7900\n",
            "Epoch 43/100\n",
            "313/313 [==============================] - 13s 41ms/step - loss: 0.4157 - accuracy: 0.8151 - val_loss: 0.4432 - val_accuracy: 0.7952\n",
            "Epoch 44/100\n",
            "313/313 [==============================] - 13s 41ms/step - loss: 0.4153 - accuracy: 0.8149 - val_loss: 0.4421 - val_accuracy: 0.7940\n",
            "Epoch 45/100\n",
            "313/313 [==============================] - 13s 41ms/step - loss: 0.4149 - accuracy: 0.8159 - val_loss: 0.4426 - val_accuracy: 0.7910\n",
            "Epoch 46/100\n",
            "313/313 [==============================] - 13s 42ms/step - loss: 0.4147 - accuracy: 0.8160 - val_loss: 0.4463 - val_accuracy: 0.7874\n",
            "Epoch 47/100\n",
            "313/313 [==============================] - 13s 41ms/step - loss: 0.4141 - accuracy: 0.8166 - val_loss: 0.4449 - val_accuracy: 0.7884\n"
          ]
        }
      ],
      "source": [
        "rmsprop = keras.optimizers.RMSprop(learning_rate = 1e-4)\n",
        "model4.compile(optimizer=rmsprop, loss='binary_crossentropy', metrics=['accuracy'])\n",
        "\n",
        "checkpoint_cb = keras.callbacks.ModelCheckpoint('best-gru-model.h5')\n",
        "early_stopping_cb = keras.callbacks.EarlyStopping(patience=3, restore_best_weights=True)\n",
        "\n",
        "history = model4.fit(train_seq, train_target, epochs=100, batch_size=64, validation_data=[val_seq, val_target], callbacks=[checkpoint_cb, early_stopping_cb])"
      ]
    },
    {
      "cell_type": "code",
      "execution_count": null,
      "metadata": {
        "colab": {
          "background_save": true
        },
        "id": "Pmb09ryTLwmi",
        "outputId": "7af33e13-61a5-4ad0-fd3f-7da0e4146bc1"
      },
      "outputs": [
        {
          "data": {
            "image/png": "[encoded data removed]",
            "text/plain": [
              "<Figure size 432x288 with 1 Axes>"
            ]
          },
          "metadata": {},
          "output_type": "display_data"
        }
      ],
      "source": [
        "plt.plot(history.history['loss'])\n",
        "plt.plot(history.history['val_loss'])\n",
        "plt.xlabel('epoch')\n",
        "plt.ylabel('loss')\n",
        "plt.legend(['train', 'val'])\n",
        "plt.show()"
      ]
    },
    {
      "cell_type": "code",
      "execution_count": null,
      "metadata": {
        "colab": {
          "background_save": true
        },
        "id": "AaRLZ3A_L4f9",
        "outputId": "7060085a-8936-4582-cf53-a61e5dbc8c5d"
      },
      "outputs": [
        {
          "name": "stdout",
          "output_type": "stream",
          "text": [
            "782/782 [==============================] - 10s 12ms/step - loss: 0.4275 - accuracy: 0.7990\n"
          ]
        },
        {
          "data": {
            "text/plain": [
              "[0.42749398946762085, 0.7990400195121765]"
            ]
          },
          "execution_count": null,
          "metadata": {},
          "output_type": "execute_result"
        }
      ],
      "source": [
        "# 2개의 순환층을 쌓은 모델을 다시 로드하여 테스트 세트 성능 확인\n",
        "test_seq = pad_sequences(test_input, maxlen=100)\n",
        "rnn_model = keras.models.load_model('best-2rnn-model.h5')\n",
        "rnn_model.evaluate(test_seq, test_target)"
      ]
    },
    {
      "cell_type": "code",
      "execution_count": null,
      "metadata": {
        "colab": {
          "background_save": true
        },
        "id": "eZHyXOJppr5f",
        "outputId": "6c230652-240f-4600-d60a-eff9440684d5"
      },
      "outputs": [
        {
          "name": "stdout",
          "output_type": "stream",
          "text": [
            "-rw-r--r-- 1 root root 122176 Feb 15 14:28 best-2rnn-model.h5\n",
            "-rw-r--r-- 1 root root 103864 Feb 15 14:09 best-drop-model.h5\n",
            "-rw-r--r-- 1 root root 101816 Feb 15 14:38 best-gru-model.h5\n",
            "-rw-r--r-- 1 root root 103864 Feb 15 14:02 best-lstm-model.h5\n"
          ]
        }
      ],
      "source": [
        "!ls -la *.h5"
      ]
    }
  ],
  "metadata": {
    "colab": {
      "name": "21_LSTM,GRU.ipynb",
      "provenance": [],
      "authorship_tag": "ABX9TyPkGqGlol6DSr8p72ysVB93",
      "include_colab_link": true
    },
    "kernelspec": {
      "display_name": "Python 3",
      "name": "python3"
    },
    "language_info": {
      "name": "python"
    }
  },
  "nbformat": 4,
  "nbformat_minor": 0
}