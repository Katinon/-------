{
  "nbformat": 4,
  "nbformat_minor": 0,
  "metadata": {
    "colab": {
      "name": "20_RecurrentNeuralNetwork.ipynb",
      "provenance": [],
      "authorship_tag": "ABX9TyPAIkpKq4q/tL7D8XAEu9cy",
      "include_colab_link": true
    },
    "kernelspec": {
      "name": "python3",
      "display_name": "Python 3"
    },
    "language_info": {
      "name": "python"
    }
  },
  "cells": [
    {
      "cell_type": "markdown",
      "metadata": {
        "id": "view-in-github",
        "colab_type": "text"
      },
      "source": [
        "<a href=\"https://colab.research.google.com/github/Katinon/Self-Study/blob/main/%ED%98%BC%EC%9E%90-%EA%B3%B5%EB%B6%80%ED%95%98%EB%8A%94-%EB%A8%B8%EC%8B%A0%EB%9F%AC%EB%8B%9D-%EB%94%A5%EB%9F%AC%EB%8B%9D/20_RecurrentNeuralNetwork.ipynb\" target=\"_parent\"><img src=\"https://colab.research.google.com/assets/colab-badge.svg\" alt=\"Open In Colab\"/></a>"
      ]
    },
    {
      "cell_type": "code",
      "execution_count": 1,
      "metadata": {
        "colab": {
          "base_uri": "https://localhost:8080/"
        },
        "id": "r29DO3F-RmvQ",
        "outputId": "d8b0942b-1262-4e6b-9498-fa008ba7567a"
      },
      "outputs": [
        {
          "output_type": "stream",
          "name": "stdout",
          "text": [
            "(25000,) (25000,)\n",
            "218\n",
            "189\n"
          ]
        }
      ],
      "source": [
        "# 데이터 준비하기\n",
        "from tensorflow.keras.datasets import imdb\n",
        "(train_input, train_target), (test_input, test_target) = imdb.load_data(num_words=500)\n",
        "\n",
        "print(train_input.shape, test_input.shape)\n",
        "\n",
        "print(len(train_input[0]))\n",
        "\n",
        "print(len(train_input[1]))"
      ]
    },
    {
      "cell_type": "code",
      "source": [
        "print(train_input[0])"
      ],
      "metadata": {
        "colab": {
          "base_uri": "https://localhost:8080/"
        },
        "id": "nhxOblKWl2nf",
        "outputId": "4d5a927e-5e39-4efa-9a5f-a92be6a002da"
      },
      "execution_count": 2,
      "outputs": [
        {
          "output_type": "stream",
          "name": "stdout",
          "text": [
            "[1, 14, 22, 16, 43, 2, 2, 2, 2, 65, 458, 2, 66, 2, 4, 173, 36, 256, 5, 25, 100, 43, 2, 112, 50, 2, 2, 9, 35, 480, 284, 5, 150, 4, 172, 112, 167, 2, 336, 385, 39, 4, 172, 2, 2, 17, 2, 38, 13, 447, 4, 192, 50, 16, 6, 147, 2, 19, 14, 22, 4, 2, 2, 469, 4, 22, 71, 87, 12, 16, 43, 2, 38, 76, 15, 13, 2, 4, 22, 17, 2, 17, 12, 16, 2, 18, 2, 5, 62, 386, 12, 8, 316, 8, 106, 5, 4, 2, 2, 16, 480, 66, 2, 33, 4, 130, 12, 16, 38, 2, 5, 25, 124, 51, 36, 135, 48, 25, 2, 33, 6, 22, 12, 215, 28, 77, 52, 5, 14, 407, 16, 82, 2, 8, 4, 107, 117, 2, 15, 256, 4, 2, 7, 2, 5, 2, 36, 71, 43, 2, 476, 26, 400, 317, 46, 7, 4, 2, 2, 13, 104, 88, 4, 381, 15, 297, 98, 32, 2, 56, 26, 141, 6, 194, 2, 18, 4, 226, 22, 21, 134, 476, 26, 480, 5, 144, 30, 2, 18, 51, 36, 28, 224, 92, 25, 104, 4, 226, 65, 16, 38, 2, 88, 12, 16, 283, 5, 16, 2, 113, 103, 32, 15, 16, 2, 19, 178, 32]\n"
          ]
        }
      ]
    },
    {
      "cell_type": "code",
      "source": [
        "print(train_target[:20])"
      ],
      "metadata": {
        "colab": {
          "base_uri": "https://localhost:8080/"
        },
        "id": "XIatvYVwlvQ4",
        "outputId": "bd32dab3-3f7c-472e-c859-bce05210def9"
      },
      "execution_count": 3,
      "outputs": [
        {
          "output_type": "stream",
          "name": "stdout",
          "text": [
            "[1 0 0 1 0 0 1 0 1 0 1 0 0 0 0 0 1 1 0 1]\n"
          ]
        }
      ]
    },
    {
      "cell_type": "code",
      "source": [
        "from sklearn.model_selection import train_test_split\n",
        "train_input, val_input, train_target, val_target = train_test_split(train_input, train_target, test_size=0.2, random_state=42)\n"
      ],
      "metadata": {
        "id": "M23cxFBrmC4A"
      },
      "execution_count": 4,
      "outputs": []
    },
    {
      "cell_type": "code",
      "source": [
        "import numpy as np\n",
        "import matplotlib.pyplot as plt\n",
        "lengths = np.array([len(x) for x in train_input])\n",
        "\n",
        "plt.hist(lengths)\n",
        "plt.xlabel('length')\n",
        "plt.ylabel('frequency')\n",
        "\n",
        "plt.show()"
      ],
      "metadata": {
        "colab": {
          "base_uri": "https://localhost:8080/",
          "height": 279
        },
        "id": "WPEdbMFkmR4T",
        "outputId": "cb2d3491-b94b-4f1c-af7e-55d83f183942"
      },
      "execution_count": 5,
      "outputs": [
        {
          "output_type": "display_data",
          "data": {
            "image/png": "[encoded data removed]",
            "text/plain": [
              "<Figure size 432x288 with 1 Axes>"
            ]
          },
          "metadata": {
            "needs_background": "light"
          }
        }
      ]
    },
    {
      "cell_type": "code",
      "source": [
        "#대부분 리뷰는 짧기 때문에 100개의 단어만 사용\n",
        "# 100개보다 짧거나 긴 리뷰를 위해 패딩 사용\n",
        "# 짧은 리뷰는 앞에서부터 0 토큰을 채우고, 긴 리뷰는 잘라냄\n",
        "\n",
        "from tensorflow.keras.preprocessing.sequence import pad_sequences\n",
        "\n",
        "train_seq = pad_sequences(train_input, maxlen=100)\n",
        "val_seq = pad_sequences(val_input, maxlen=100)\n",
        "\n",
        "print(train_seq.shape)\n",
        "# 20000개의 리뷰, 100개의 토큰 길이"
      ],
      "metadata": {
        "colab": {
          "base_uri": "https://localhost:8080/"
        },
        "id": "Ks9iVCeGmwrp",
        "outputId": "4604ff85-1e36-4d35-9ad4-e36f985f51ab"
      },
      "execution_count": 6,
      "outputs": [
        {
          "output_type": "stream",
          "name": "stdout",
          "text": [
            "(20000, 100)\n"
          ]
        }
      ]
    },
    {
      "cell_type": "code",
      "source": [
        "# 순환층 클래스, SimpleRNN\n",
        "# 이진 분류이므로 마지막 출력층 활성화 함수 시그모이드\n",
        "\n",
        "from tensorflow import keras\n",
        "model = keras.Sequential()\n",
        "model.add(keras.layers.SimpleRNN(8, input_shape=(100, 500)))\n",
        "model.add(keras.layers.Dense(1, activation='sigmoid')) #이진 분류"
      ],
      "metadata": {
        "id": "_d0zCL9nnPht"
      },
      "execution_count": 7,
      "outputs": []
    },
    {
      "cell_type": "code",
      "source": [
        "# 토큰을 정수로 변환한 이 데이터를 신경망에 주입하면\n",
        "# 큰 정수가 큰 활성화 함수를 만들기 때문에\n",
        "# 크기 속성을 없애고 각 정수를 고유하게 표현 => 원 핫 인코딩\n",
        "# 해당 원소만 1이고 나머지는 0\n",
        "\n",
        "train_oh = keras.utils.to_categorical(train_seq)\n",
        "print(train_oh.shape)\n",
        "# 2만개의 샘플, 100개의 토큰 길이, 0~499의 토큰범위"
      ],
      "metadata": {
        "colab": {
          "base_uri": "https://localhost:8080/"
        },
        "id": "KNlE45aln3lT",
        "outputId": "c464d198-f7cf-4945-b4b0-1dcb408da179"
      },
      "execution_count": 8,
      "outputs": [
        {
          "output_type": "stream",
          "name": "stdout",
          "text": [
            "(20000, 100, 500)\n"
          ]
        }
      ]
    },
    {
      "cell_type": "code",
      "source": [
        "print(train_oh[0][0][:12])\n",
        "print(np.sum(train_oh[0][0]))"
      ],
      "metadata": {
        "colab": {
          "base_uri": "https://localhost:8080/"
        },
        "id": "F4nKXceSoUyJ",
        "outputId": "09292189-f225-4296-d180-e970b19344f1"
      },
      "execution_count": 9,
      "outputs": [
        {
          "output_type": "stream",
          "name": "stdout",
          "text": [
            "[0. 0. 0. 0. 0. 0. 0. 0. 0. 0. 1. 0.]\n",
            "1.0\n"
          ]
        }
      ]
    },
    {
      "cell_type": "code",
      "source": [
        "val_oh = keras.utils.to_categorical(val_seq)"
      ],
      "metadata": {
        "id": "bGqFGLaVonWN"
      },
      "execution_count": 10,
      "outputs": []
    },
    {
      "cell_type": "code",
      "source": [
        "model.summary()"
      ],
      "metadata": {
        "colab": {
          "base_uri": "https://localhost:8080/"
        },
        "id": "HQujly7MorRj",
        "outputId": "00a07006-1456-427a-af94-8be7cb6c5ec2"
      },
      "execution_count": 11,
      "outputs": [
        {
          "output_type": "stream",
          "name": "stdout",
          "text": [
            "Model: \"sequential\"\n",
            "_________________________________________________________________\n",
            " Layer (type)                Output Shape              Param #   \n",
            "=================================================================\n",
            " simple_rnn (SimpleRNN)      (None, 8)                 4072      \n",
            "                                                                 \n",
            " dense (Dense)               (None, 1)                 9         \n",
            "                                                                 \n",
            "=================================================================\n",
            "Total params: 4,081\n",
            "Trainable params: 4,081\n",
            "Non-trainable params: 0\n",
            "_________________________________________________________________\n"
          ]
        }
      ]
    },
    {
      "cell_type": "code",
      "source": [
        "# 순환 신경망 훈련하기\n",
        "# RMSprop 학습률 0.0001로 만들기 위해 객체 따로 지정\n",
        "\n",
        "rmsprop = keras.optimizers.RMSprop(learning_rate = 1e-4)\n",
        "model.compile(optimizer=rmsprop, loss='binary_crossentropy', metrics=['accuracy'])\n",
        "\n",
        "checkpoint_cb = keras.callbacks.ModelCheckpoint('best-simplernn-model.h5')\n",
        "early_stopping_cb = keras.callbacks.EarlyStopping(patience=3, restore_best_weights=True)\n",
        "\n",
        "history = model.fit(train_oh, train_target, epochs=100, batch_size=64, validation_data = (val_oh, val_target), callbacks=[checkpoint_cb, early_stopping_cb])"
      ],
      "metadata": {
        "colab": {
          "base_uri": "https://localhost:8080/"
        },
        "id": "-cjyqDKto2XV",
        "outputId": "d2d41ddb-5ebb-4302-bf1f-172dbcf733d4"
      },
      "execution_count": 12,
      "outputs": [
        {
          "output_type": "stream",
          "name": "stdout",
          "text": [
            "Epoch 1/100\n",
            "313/313 [==============================] - 14s 41ms/step - loss: 0.6968 - accuracy: 0.5038 - val_loss: 0.6970 - val_accuracy: 0.5008\n",
            "Epoch 2/100\n",
            "313/313 [==============================] - 12s 40ms/step - loss: 0.6898 - accuracy: 0.5366 - val_loss: 0.6878 - val_accuracy: 0.5494\n",
            "Epoch 3/100\n",
            "313/313 [==============================] - 12s 40ms/step - loss: 0.6800 - accuracy: 0.5793 - val_loss: 0.6774 - val_accuracy: 0.5900\n",
            "Epoch 4/100\n",
            "313/313 [==============================] - 12s 39ms/step - loss: 0.6692 - accuracy: 0.6147 - val_loss: 0.6663 - val_accuracy: 0.6260\n",
            "Epoch 5/100\n",
            "313/313 [==============================] - 13s 40ms/step - loss: 0.6562 - accuracy: 0.6446 - val_loss: 0.6534 - val_accuracy: 0.6448\n",
            "Epoch 6/100\n",
            "313/313 [==============================] - 13s 42ms/step - loss: 0.6415 - accuracy: 0.6657 - val_loss: 0.6383 - val_accuracy: 0.6702\n",
            "Epoch 7/100\n",
            "313/313 [==============================] - 12s 38ms/step - loss: 0.6251 - accuracy: 0.6866 - val_loss: 0.6247 - val_accuracy: 0.6922\n",
            "Epoch 8/100\n",
            "313/313 [==============================] - 12s 40ms/step - loss: 0.6085 - accuracy: 0.7045 - val_loss: 0.6073 - val_accuracy: 0.7046\n",
            "Epoch 9/100\n",
            "313/313 [==============================] - 13s 40ms/step - loss: 0.5910 - accuracy: 0.7178 - val_loss: 0.5893 - val_accuracy: 0.7184\n",
            "Epoch 10/100\n",
            "313/313 [==============================] - 12s 39ms/step - loss: 0.5723 - accuracy: 0.7339 - val_loss: 0.5720 - val_accuracy: 0.7320\n",
            "Epoch 11/100\n",
            "313/313 [==============================] - 12s 39ms/step - loss: 0.5548 - accuracy: 0.7466 - val_loss: 0.5556 - val_accuracy: 0.7452\n",
            "Epoch 12/100\n",
            "313/313 [==============================] - 12s 39ms/step - loss: 0.5389 - accuracy: 0.7585 - val_loss: 0.5432 - val_accuracy: 0.7518\n",
            "Epoch 13/100\n",
            "313/313 [==============================] - 12s 39ms/step - loss: 0.5251 - accuracy: 0.7660 - val_loss: 0.5306 - val_accuracy: 0.7540\n",
            "Epoch 14/100\n",
            "313/313 [==============================] - 12s 39ms/step - loss: 0.5115 - accuracy: 0.7739 - val_loss: 0.5193 - val_accuracy: 0.7640\n",
            "Epoch 15/100\n",
            "313/313 [==============================] - 12s 39ms/step - loss: 0.5003 - accuracy: 0.7799 - val_loss: 0.5102 - val_accuracy: 0.7666\n",
            "Epoch 16/100\n",
            "313/313 [==============================] - 12s 39ms/step - loss: 0.4896 - accuracy: 0.7829 - val_loss: 0.5049 - val_accuracy: 0.7690\n",
            "Epoch 17/100\n",
            "313/313 [==============================] - 12s 38ms/step - loss: 0.4801 - accuracy: 0.7895 - val_loss: 0.4969 - val_accuracy: 0.7712\n",
            "Epoch 18/100\n",
            "313/313 [==============================] - 12s 39ms/step - loss: 0.4718 - accuracy: 0.7924 - val_loss: 0.4881 - val_accuracy: 0.7790\n",
            "Epoch 19/100\n",
            "313/313 [==============================] - 12s 39ms/step - loss: 0.4641 - accuracy: 0.7958 - val_loss: 0.4831 - val_accuracy: 0.7824\n",
            "Epoch 20/100\n",
            "313/313 [==============================] - 12s 40ms/step - loss: 0.4570 - accuracy: 0.7985 - val_loss: 0.4788 - val_accuracy: 0.7822\n",
            "Epoch 21/100\n",
            "313/313 [==============================] - 12s 40ms/step - loss: 0.4511 - accuracy: 0.8016 - val_loss: 0.4764 - val_accuracy: 0.7826\n",
            "Epoch 22/100\n",
            "313/313 [==============================] - 12s 39ms/step - loss: 0.4454 - accuracy: 0.8037 - val_loss: 0.4717 - val_accuracy: 0.7864\n",
            "Epoch 23/100\n",
            "313/313 [==============================] - 12s 39ms/step - loss: 0.4407 - accuracy: 0.8055 - val_loss: 0.4688 - val_accuracy: 0.7870\n",
            "Epoch 24/100\n",
            "313/313 [==============================] - 12s 38ms/step - loss: 0.4361 - accuracy: 0.8087 - val_loss: 0.4650 - val_accuracy: 0.7886\n",
            "Epoch 25/100\n",
            "313/313 [==============================] - 12s 38ms/step - loss: 0.4326 - accuracy: 0.8102 - val_loss: 0.4627 - val_accuracy: 0.7892\n",
            "Epoch 26/100\n",
            "313/313 [==============================] - 12s 39ms/step - loss: 0.4283 - accuracy: 0.8119 - val_loss: 0.4635 - val_accuracy: 0.7896\n",
            "Epoch 27/100\n",
            "313/313 [==============================] - 12s 39ms/step - loss: 0.4253 - accuracy: 0.8122 - val_loss: 0.4603 - val_accuracy: 0.7878\n",
            "Epoch 28/100\n",
            "313/313 [==============================] - 12s 39ms/step - loss: 0.4224 - accuracy: 0.8126 - val_loss: 0.4633 - val_accuracy: 0.7900\n",
            "Epoch 29/100\n",
            "313/313 [==============================] - 12s 38ms/step - loss: 0.4198 - accuracy: 0.8157 - val_loss: 0.4579 - val_accuracy: 0.7916\n",
            "Epoch 30/100\n",
            "313/313 [==============================] - 12s 38ms/step - loss: 0.4170 - accuracy: 0.8154 - val_loss: 0.4560 - val_accuracy: 0.7926\n",
            "Epoch 31/100\n",
            "313/313 [==============================] - 12s 39ms/step - loss: 0.4149 - accuracy: 0.8163 - val_loss: 0.4559 - val_accuracy: 0.7930\n",
            "Epoch 32/100\n",
            "313/313 [==============================] - 12s 39ms/step - loss: 0.4125 - accuracy: 0.8172 - val_loss: 0.4565 - val_accuracy: 0.7940\n",
            "Epoch 33/100\n",
            "313/313 [==============================] - 12s 39ms/step - loss: 0.4107 - accuracy: 0.8189 - val_loss: 0.4576 - val_accuracy: 0.7936\n",
            "Epoch 34/100\n",
            "313/313 [==============================] - 12s 39ms/step - loss: 0.4091 - accuracy: 0.8195 - val_loss: 0.4544 - val_accuracy: 0.7938\n",
            "Epoch 35/100\n",
            "313/313 [==============================] - 12s 39ms/step - loss: 0.4068 - accuracy: 0.8196 - val_loss: 0.4563 - val_accuracy: 0.7946\n",
            "Epoch 36/100\n",
            "313/313 [==============================] - 12s 38ms/step - loss: 0.4056 - accuracy: 0.8221 - val_loss: 0.4541 - val_accuracy: 0.7922\n",
            "Epoch 37/100\n",
            "313/313 [==============================] - 12s 38ms/step - loss: 0.4045 - accuracy: 0.8209 - val_loss: 0.4539 - val_accuracy: 0.7938\n",
            "Epoch 38/100\n",
            "313/313 [==============================] - 12s 38ms/step - loss: 0.4026 - accuracy: 0.8224 - val_loss: 0.4528 - val_accuracy: 0.7924\n",
            "Epoch 39/100\n",
            "313/313 [==============================] - 12s 38ms/step - loss: 0.4021 - accuracy: 0.8216 - val_loss: 0.4525 - val_accuracy: 0.7926\n",
            "Epoch 40/100\n",
            "313/313 [==============================] - 12s 39ms/step - loss: 0.4003 - accuracy: 0.8244 - val_loss: 0.4552 - val_accuracy: 0.7928\n",
            "Epoch 41/100\n",
            "313/313 [==============================] - 12s 39ms/step - loss: 0.3995 - accuracy: 0.8226 - val_loss: 0.4545 - val_accuracy: 0.7932\n",
            "Epoch 42/100\n",
            "313/313 [==============================] - 12s 38ms/step - loss: 0.3983 - accuracy: 0.8228 - val_loss: 0.4540 - val_accuracy: 0.7922\n"
          ]
        }
      ]
    },
    {
      "cell_type": "code",
      "source": [
        "plt.plot(history.history['loss'])\n",
        "plt.plot(history.history['val_loss'])\n",
        "plt.xlabel('epoch')\n",
        "plt.ylabel('loss')\n",
        "plt.legend(['train', 'val'])\n",
        "plt.show()"
      ],
      "metadata": {
        "colab": {
          "base_uri": "https://localhost:8080/",
          "height": 279
        },
        "id": "XBi-v12wsVcd",
        "outputId": "eeb59974-818f-4e7e-ea8c-705ffa8f0794"
      },
      "execution_count": 13,
      "outputs": [
        {
          "output_type": "display_data",
          "data": {
            "image/png": "[encoded data removed]",
            "text/plain": [
              "<Figure size 432x288 with 1 Axes>"
            ]
          },
          "metadata": {
            "needs_background": "light"
          }
        }
      ]
    },
    {
      "cell_type": "code",
      "source": [
        "# 원핫 인코딩의 단점은 입력 데이터가 매우 커진다는 것\n",
        "# 각 단어를 고정된 크기의 실수 벡터로 바꿈\n",
        "\n",
        "model2 = keras.Sequential()\n",
        "model2.add(keras.layers.Embedding(500, 16, input_length=100))\n",
        "model2.add(keras.layers.SimpleRNN(8))\n",
        "model2.add(keras.layers.Dense(1, activation='sigmoid'))\n",
        "\n",
        "model2.summary()"
      ],
      "metadata": {
        "colab": {
          "base_uri": "https://localhost:8080/"
        },
        "id": "f9luVy8StsbV",
        "outputId": "03b496d8-bc11-4dca-914b-7adaa59a85b2"
      },
      "execution_count": 26,
      "outputs": [
        {
          "output_type": "stream",
          "name": "stdout",
          "text": [
            "Model: \"sequential_2\"\n",
            "_________________________________________________________________\n",
            " Layer (type)                Output Shape              Param #   \n",
            "=================================================================\n",
            " embedding_1 (Embedding)     (None, 100, 16)           8000      \n",
            "                                                                 \n",
            " simple_rnn_2 (SimpleRNN)    (None, 8)                 200       \n",
            "                                                                 \n",
            " dense_2 (Dense)             (None, 1)                 9         \n",
            "                                                                 \n",
            "=================================================================\n",
            "Total params: 8,209\n",
            "Trainable params: 8,209\n",
            "Non-trainable params: 0\n",
            "_________________________________________________________________\n"
          ]
        }
      ]
    },
    {
      "cell_type": "code",
      "source": [
        "rmsprop = keras.optimizers.RMSprop(learning_rate=1e-4)\n",
        "model2.compile(optimizer=rmsprop, loss='binary_crossentropy', metrics=['accuracy'])\n",
        "\n",
        "checkpoint_cb = keras.callbacks.ModelCheckpoint('best-embedding-model.h5')\n",
        "early_stopping_cb = keras.callbacks.EarlyStopping(patience=5, restore_best_weights=True)\n",
        "\n",
        "history = model2.fit(train_seq, train_target, epochs=100, batch_size=64, validation_data = (val_seq, val_target), callbacks=[checkpoint_cb, early_stopping_cb])"
      ],
      "metadata": {
        "colab": {
          "base_uri": "https://localhost:8080/"
        },
        "id": "WSECwj58uPG8",
        "outputId": "3c8bf10b-d05f-41fb-c629-7bcf20867073"
      },
      "execution_count": 27,
      "outputs": [
        {
          "output_type": "stream",
          "name": "stdout",
          "text": [
            "Epoch 1/100\n",
            "313/313 [==============================] - 8s 22ms/step - loss: 0.6948 - accuracy: 0.5082 - val_loss: 0.6935 - val_accuracy: 0.5080\n",
            "Epoch 2/100\n",
            "313/313 [==============================] - 7s 22ms/step - loss: 0.6908 - accuracy: 0.5289 - val_loss: 0.6921 - val_accuracy: 0.5202\n",
            "Epoch 3/100\n",
            "313/313 [==============================] - 7s 22ms/step - loss: 0.6876 - accuracy: 0.5490 - val_loss: 0.6913 - val_accuracy: 0.5234\n",
            "Epoch 4/100\n",
            "313/313 [==============================] - 7s 22ms/step - loss: 0.6845 - accuracy: 0.5628 - val_loss: 0.6910 - val_accuracy: 0.5254\n",
            "Epoch 5/100\n",
            "313/313 [==============================] - 7s 22ms/step - loss: 0.6813 - accuracy: 0.5723 - val_loss: 0.6910 - val_accuracy: 0.5250\n",
            "Epoch 6/100\n",
            "313/313 [==============================] - 7s 21ms/step - loss: 0.6780 - accuracy: 0.5811 - val_loss: 0.6912 - val_accuracy: 0.5250\n",
            "Epoch 7/100\n",
            "313/313 [==============================] - 7s 22ms/step - loss: 0.6747 - accuracy: 0.5874 - val_loss: 0.6918 - val_accuracy: 0.5242\n",
            "Epoch 8/100\n",
            "313/313 [==============================] - 7s 22ms/step - loss: 0.6712 - accuracy: 0.5935 - val_loss: 0.6910 - val_accuracy: 0.5264\n",
            "Epoch 9/100\n",
            "313/313 [==============================] - 7s 22ms/step - loss: 0.6679 - accuracy: 0.6008 - val_loss: 0.6912 - val_accuracy: 0.5312\n",
            "Epoch 10/100\n",
            "313/313 [==============================] - 7s 23ms/step - loss: 0.6642 - accuracy: 0.6069 - val_loss: 0.6904 - val_accuracy: 0.5356\n",
            "Epoch 11/100\n",
            "313/313 [==============================] - 7s 22ms/step - loss: 0.6606 - accuracy: 0.6128 - val_loss: 0.6900 - val_accuracy: 0.5400\n",
            "Epoch 12/100\n",
            "313/313 [==============================] - 7s 21ms/step - loss: 0.6569 - accuracy: 0.6198 - val_loss: 0.6892 - val_accuracy: 0.5392\n",
            "Epoch 13/100\n",
            "313/313 [==============================] - 7s 23ms/step - loss: 0.6530 - accuracy: 0.6244 - val_loss: 0.6885 - val_accuracy: 0.5428\n",
            "Epoch 14/100\n",
            "313/313 [==============================] - 7s 22ms/step - loss: 0.6489 - accuracy: 0.6320 - val_loss: 0.6881 - val_accuracy: 0.5504\n",
            "Epoch 15/100\n",
            "313/313 [==============================] - 7s 21ms/step - loss: 0.6448 - accuracy: 0.6368 - val_loss: 0.6867 - val_accuracy: 0.5504\n",
            "Epoch 16/100\n",
            "313/313 [==============================] - 7s 21ms/step - loss: 0.6407 - accuracy: 0.6418 - val_loss: 0.6852 - val_accuracy: 0.5540\n",
            "Epoch 17/100\n",
            "313/313 [==============================] - 7s 22ms/step - loss: 0.6367 - accuracy: 0.6468 - val_loss: 0.6851 - val_accuracy: 0.5562\n",
            "Epoch 18/100\n",
            "313/313 [==============================] - 7s 23ms/step - loss: 0.6324 - accuracy: 0.6498 - val_loss: 0.6843 - val_accuracy: 0.5572\n",
            "Epoch 19/100\n",
            "313/313 [==============================] - 7s 23ms/step - loss: 0.6281 - accuracy: 0.6549 - val_loss: 0.6827 - val_accuracy: 0.5626\n",
            "Epoch 20/100\n",
            "313/313 [==============================] - 7s 21ms/step - loss: 0.6242 - accuracy: 0.6589 - val_loss: 0.6823 - val_accuracy: 0.5646\n",
            "Epoch 21/100\n",
            "313/313 [==============================] - 7s 23ms/step - loss: 0.6199 - accuracy: 0.6633 - val_loss: 0.6812 - val_accuracy: 0.5710\n",
            "Epoch 22/100\n",
            "313/313 [==============================] - 7s 22ms/step - loss: 0.6157 - accuracy: 0.6687 - val_loss: 0.6802 - val_accuracy: 0.5738\n",
            "Epoch 23/100\n",
            "313/313 [==============================] - 7s 22ms/step - loss: 0.6117 - accuracy: 0.6697 - val_loss: 0.6784 - val_accuracy: 0.5728\n",
            "Epoch 24/100\n",
            "313/313 [==============================] - 7s 21ms/step - loss: 0.6078 - accuracy: 0.6740 - val_loss: 0.6787 - val_accuracy: 0.5766\n",
            "Epoch 25/100\n",
            "313/313 [==============================] - 7s 21ms/step - loss: 0.6037 - accuracy: 0.6791 - val_loss: 0.6783 - val_accuracy: 0.5776\n",
            "Epoch 26/100\n",
            "313/313 [==============================] - 7s 21ms/step - loss: 0.6000 - accuracy: 0.6829 - val_loss: 0.6787 - val_accuracy: 0.5792\n",
            "Epoch 27/100\n",
            "313/313 [==============================] - 7s 23ms/step - loss: 0.5964 - accuracy: 0.6851 - val_loss: 0.6775 - val_accuracy: 0.5838\n",
            "Epoch 28/100\n",
            "313/313 [==============================] - 7s 22ms/step - loss: 0.5929 - accuracy: 0.6874 - val_loss: 0.6775 - val_accuracy: 0.5852\n",
            "Epoch 29/100\n",
            "313/313 [==============================] - 7s 22ms/step - loss: 0.5892 - accuracy: 0.6930 - val_loss: 0.6778 - val_accuracy: 0.5842\n",
            "Epoch 30/100\n",
            "313/313 [==============================] - 7s 22ms/step - loss: 0.5859 - accuracy: 0.6941 - val_loss: 0.6778 - val_accuracy: 0.5862\n",
            "Epoch 31/100\n",
            "313/313 [==============================] - 7s 22ms/step - loss: 0.5827 - accuracy: 0.6981 - val_loss: 0.6762 - val_accuracy: 0.5922\n",
            "Epoch 32/100\n",
            "313/313 [==============================] - 7s 22ms/step - loss: 0.5796 - accuracy: 0.7002 - val_loss: 0.6763 - val_accuracy: 0.5898\n",
            "Epoch 33/100\n",
            "313/313 [==============================] - 7s 22ms/step - loss: 0.5763 - accuracy: 0.7037 - val_loss: 0.6782 - val_accuracy: 0.5918\n",
            "Epoch 34/100\n",
            "313/313 [==============================] - 7s 23ms/step - loss: 0.5737 - accuracy: 0.7047 - val_loss: 0.6788 - val_accuracy: 0.5928\n",
            "Epoch 35/100\n",
            "313/313 [==============================] - 7s 22ms/step - loss: 0.5710 - accuracy: 0.7068 - val_loss: 0.6779 - val_accuracy: 0.5948\n",
            "Epoch 36/100\n",
            "313/313 [==============================] - 7s 22ms/step - loss: 0.5683 - accuracy: 0.7088 - val_loss: 0.6788 - val_accuracy: 0.5962\n"
          ]
        }
      ]
    },
    {
      "cell_type": "code",
      "source": [
        "plt.plot(history.history['loss'])\n",
        "plt.plot(history.history['val_loss'])\n",
        "plt.xlabel('epoch')\n",
        "plt.ylabel('loss')\n",
        "plt.legend(['train', 'val'])\n",
        "plt.show()"
      ],
      "metadata": {
        "colab": {
          "base_uri": "https://localhost:8080/",
          "height": 282
        },
        "id": "bcGGec6Zv5Ou",
        "outputId": "89080230-8a69-4530-b814-8a48e10ec668"
      },
      "execution_count": 28,
      "outputs": [
        {
          "output_type": "display_data",
          "data": {
            "image/png": "[encoded data removed]",
            "text/plain": [
              "<Figure size 432x288 with 1 Axes>"
            ]
          },
          "metadata": {
            "needs_background": "light"
          }
        }
      ]
    }
  ]
}